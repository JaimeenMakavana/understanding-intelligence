{
 "cells": [
  {
   "cell_type": "code",
   "execution_count": 1,
   "id": "3b070357-e596-4a29-ab16-ab35cd5d4092",
   "metadata": {},
   "outputs": [
    {
     "name": "stdout",
     "output_type": "stream",
     "text": [
      "scalar 42\n"
     ]
    }
   ],
   "source": [
    "scalar = 42\n",
    "print(\"scalar\", scalar)"
   ]
  },
  {
   "cell_type": "code",
   "execution_count": 2,
   "id": "68b1b050-80b9-4f7b-99e3-51fcdfaf0b67",
   "metadata": {},
   "outputs": [
    {
     "data": {
      "text/plain": [
       "int"
      ]
     },
     "execution_count": 2,
     "metadata": {},
     "output_type": "execute_result"
    }
   ],
   "source": [
    "type(scalar)"
   ]
  },
  {
   "cell_type": "code",
   "execution_count": 3,
   "id": "4f072407-8e37-4627-a8ff-a90e2768816d",
   "metadata": {},
   "outputs": [
    {
     "name": "stdout",
     "output_type": "stream",
     "text": [
      "[2 4]\n"
     ]
    }
   ],
   "source": [
    "import numpy as np\n",
    "\n",
    "v = np.array([2,4])\n",
    "print(v)"
   ]
  },
  {
   "cell_type": "code",
   "execution_count": 4,
   "id": "cf875df9-1f03-44e7-9e7f-0152bc6ce501",
   "metadata": {},
   "outputs": [
    {
     "data": {
      "text/plain": [
       "(2,)"
      ]
     },
     "execution_count": 4,
     "metadata": {},
     "output_type": "execute_result"
    }
   ],
   "source": [
    "v.shape"
   ]
  },
  {
   "cell_type": "code",
   "execution_count": 5,
   "id": "5d5fbb43-a661-470e-a91d-8c8654327d3f",
   "metadata": {},
   "outputs": [
    {
     "data": {
      "text/plain": [
       "np.float64(4.47213595499958)"
      ]
     },
     "execution_count": 5,
     "metadata": {},
     "output_type": "execute_result"
    }
   ],
   "source": [
    "np.linalg.norm(v)"
   ]
  },
  {
   "cell_type": "code",
   "execution_count": 9,
   "id": "47a99c0d-9c07-4e98-8c8a-76d4fe6fee4a",
   "metadata": {},
   "outputs": [
    {
     "data": {
      "text/plain": [
       "array([[ 2, -1],\n",
       "       [ 4,  3]])"
      ]
     },
     "execution_count": 9,
     "metadata": {},
     "output_type": "execute_result"
    }
   ],
   "source": [
    "M = np.array([[2,-1],[4,3]])\n",
    "M"
   ]
  },
  {
   "cell_type": "code",
   "execution_count": 12,
   "id": "01241eb6-398d-4e10-8381-79a27ce81f0f",
   "metadata": {},
   "outputs": [
    {
     "data": {
      "text/plain": [
       "(2, 2)"
      ]
     },
     "execution_count": 12,
     "metadata": {},
     "output_type": "execute_result"
    }
   ],
   "source": [
    "M.shape"
   ]
  },
  {
   "cell_type": "code",
   "execution_count": 14,
   "id": "e8e163c8-5c90-4f0a-8740-6d6d695a82aa",
   "metadata": {},
   "outputs": [],
   "source": [
    "v = np.array([1,2])\n",
    "result = M @ v"
   ]
  },
  {
   "cell_type": "code",
   "execution_count": 15,
   "id": "b8806772-c3d4-4804-9f13-d2b1000f1dbc",
   "metadata": {},
   "outputs": [
    {
     "data": {
      "text/plain": [
       "array([ 0, 10])"
      ]
     },
     "execution_count": 15,
     "metadata": {},
     "output_type": "execute_result"
    }
   ],
   "source": [
    "result"
   ]
  },
  {
   "cell_type": "code",
   "execution_count": 17,
   "id": "e0b84495-60f5-4f11-a595-81e2cb9ea7d0",
   "metadata": {},
   "outputs": [],
   "source": [
    "T = np.array([[[1,2],[3,4]],[[5,6],[7,8]]])"
   ]
  },
  {
   "cell_type": "code",
   "execution_count": 19,
   "id": "7280e237-6d24-4c7c-820f-147217111fb6",
   "metadata": {},
   "outputs": [
    {
     "data": {
      "text/plain": [
       "array([[[1, 2],\n",
       "        [3, 4]],\n",
       "\n",
       "       [[5, 6],\n",
       "        [7, 8]]])"
      ]
     },
     "execution_count": 19,
     "metadata": {},
     "output_type": "execute_result"
    }
   ],
   "source": [
    "T"
   ]
  },
  {
   "cell_type": "code",
   "execution_count": 20,
   "id": "3ce0b6be-0630-4bc1-aab6-6a396bb5c99f",
   "metadata": {},
   "outputs": [
    {
     "data": {
      "image/png": "[encoded data removed]",
      "text/plain": [
       "<Figure size 640x480 with 1 Axes>"
      ]
     },
     "metadata": {},
     "output_type": "display_data"
    }
   ],
   "source": [
    "import numpy as np\n",
    "import matplotlib.pyplot as plt\n",
    "\n",
    "A = np.array([[2, 1],\n",
    "              [0, 3]])\n",
    "\n",
    "# Original basis vectors\n",
    "e1 = np.array([1, 0])\n",
    "e2 = np.array([0, 1])\n",
    "\n",
    "# Transformed vectors\n",
    "Ae1 = A @ e1\n",
    "Ae2 = A @ e2\n",
    "\n",
    "# Plot\n",
    "plt.quiver(0, 0, e1[0], e1[1], angles='xy', scale_units='xy', scale=1, color='gray', label='e1')\n",
    "plt.quiver(0, 0, e2[0], e2[1], angles='xy', scale_units='xy', scale=1, color='gray', label='e2')\n",
    "\n",
    "plt.quiver(0, 0, Ae1[0], Ae1[1], angles='xy', scale_units='xy', scale=1, color='red', label='Ae1')\n",
    "plt.quiver(0, 0, Ae2[0], Ae2[1], angles='xy', scale_units='xy', scale=1, color='blue', label='Ae2')\n",
    "\n",
    "plt.xlim(-1, 4)\n",
    "plt.ylim(-1, 4)\n",
    "plt.axhline(0, color='black', linewidth=0.5)\n",
    "plt.axvline(0, color='black', linewidth=0.5)\n",
    "plt.gca().set_aspect('equal')\n",
    "plt.grid(True)\n",
    "plt.legend()\n",
    "plt.title(\"Matrix as Transformation of Space\")\n",
    "plt.show()\n"
   ]
  }
 ],
 "metadata": {
  "kernelspec": {
   "display_name": "Python 3 (ipykernel)",
   "language": "python",
   "name": "python3"
  },
  "language_info": {
   "codemirror_mode": {
    "name": "ipython",
    "version": 3
   },
   "file_extension": ".py",
   "mimetype": "text/x-python",
   "name": "python",
   "nbconvert_exporter": "python",
   "pygments_lexer": "ipython3",
   "version": "3.13.3"
  }
 },
 "nbformat": 4,
 "nbformat_minor": 5
}
