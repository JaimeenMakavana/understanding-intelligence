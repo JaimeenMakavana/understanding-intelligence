{
 "cells": [
  {
   "cell_type": "code",
   "execution_count": 1,
   "id": "b0502f8b-04db-4389-a6a6-b8ccc7a9b5b9",
   "metadata": {},
   "outputs": [],
   "source": [
    "# que 50:"
   ]
  },
  {
   "cell_type": "code",
   "execution_count": 3,
   "id": "cbd69a41-b03d-4672-b117-ebbd4ab16bd0",
   "metadata": {},
   "outputs": [
    {
     "name": "stdin",
     "output_type": "stream",
     "text": [
      "enter password sddsf\n"
     ]
    },
    {
     "name": "stdout",
     "output_type": "stream",
     "text": [
      "invalid password\n"
     ]
    }
   ],
   "source": [
    "password = input('enter password')\n",
    "if len(password) > 7 & len(password) < 17:\n",
    "    print('valid password')\n",
    "else:\n",
    "    print('invalid password')"
   ]
  },
  {
   "cell_type": "code",
   "execution_count": 4,
   "id": "bf548271-c81b-40f4-b49f-6e446e8c6fb8",
   "metadata": {},
   "outputs": [],
   "source": [
    "# que 49"
   ]
  },
  {
   "cell_type": "code",
   "execution_count": 6,
   "id": "e3bc7ce6-fb18-48b6-a29a-5179169e69d3",
   "metadata": {},
   "outputs": [
    {
     "name": "stdin",
     "output_type": "stream",
     "text": [
      "type color red\n"
     ]
    },
    {
     "name": "stdout",
     "output_type": "stream",
     "text": [
      "present\n"
     ]
    }
   ],
   "source": [
    "color = input('type color:')\n",
    "if color in {\"red\", \"blue\", \"green\"}:\n",
    "    print(\"present\")\n",
    "else:\n",
    "    print(\"not present\")"
   ]
  },
  {
   "cell_type": "code",
   "execution_count": 7,
   "id": "12417d0b-109b-4de0-87a9-1479dca45cb3",
   "metadata": {},
   "outputs": [],
   "source": [
    "# que 48"
   ]
  },
  {
   "cell_type": "code",
   "execution_count": 10,
   "id": "41e28a37-4d4e-4137-9785-77212ddc3ec1",
   "metadata": {},
   "outputs": [
    {
     "name": "stdin",
     "output_type": "stream",
     "text": [
      "email:  jaimeen\n"
     ]
    },
    {
     "name": "stdout",
     "output_type": "stream",
     "text": [
      "invalid\n"
     ]
    }
   ],
   "source": [
    "email = input(\"email: \")\n",
    "\n",
    "if \"@\" in email and \".\" in email:\n",
    "    print(\"valid email\")\n",
    "else:\n",
    "    print(\"invalid\")\n"
   ]
  },
  {
   "cell_type": "code",
   "execution_count": 11,
   "id": "8bdba6d8-8462-49f2-91f4-2235d1b02696",
   "metadata": {},
   "outputs": [],
   "source": [
    "#que 47"
   ]
  },
  {
   "cell_type": "code",
   "execution_count": 12,
   "id": "a0939be9-087f-4357-b962-7d667d21c516",
   "metadata": {},
   "outputs": [
    {
     "name": "stdout",
     "output_type": "stream",
     "text": [
      "eligible\n"
     ]
    }
   ],
   "source": [
    "age = 65\n",
    "if age >= 60:\n",
    "    print(\"eligible\")"
   ]
  },
  {
   "cell_type": "code",
   "execution_count": 14,
   "id": "ed7e39ac-4576-449f-99dc-b337f6ee9a80",
   "metadata": {},
   "outputs": [],
   "source": [
    "number = 37\n",
    "if len(str(number)) == 3 :\n",
    "    print(\"yes\")"
   ]
  },
  {
   "cell_type": "code",
   "execution_count": 19,
   "id": "474c8106-b152-4748-a740-92828f1d5857",
   "metadata": {},
   "outputs": [
    {
     "name": "stdout",
     "output_type": "stream",
     "text": [
      "jaimeen\n"
     ]
    }
   ],
   "source": [
    "a, b = \"jaimeen\",\"mak\"\n",
    "if len(a) > len(b):\n",
    "    print(a)\n",
    "else:\n",
    "    print(b)"
   ]
  },
  {
   "cell_type": "code",
   "execution_count": 21,
   "id": "b70ad903-c614-4c60-96d9-8d306bc65282",
   "metadata": {},
   "outputs": [],
   "source": [
    "n = 94\n",
    "if n % 100 <= 5 or n % 100 >= 95:\n",
    "    print(\"yes\")"
   ]
  },
  {
   "cell_type": "code",
   "execution_count": 22,
   "id": "9274c94d-7320-4b93-98eb-63056bfb28ea",
   "metadata": {},
   "outputs": [
    {
     "name": "stdout",
     "output_type": "stream",
     "text": [
      "Length: 1, Size in bytes: 88\n",
      "Length: 2, Size in bytes: 88\n",
      "Length: 3, Size in bytes: 88\n",
      "Length: 4, Size in bytes: 88\n",
      "Length: 5, Size in bytes: 120\n",
      "Length: 6, Size in bytes: 120\n",
      "Length: 7, Size in bytes: 120\n",
      "Length: 8, Size in bytes: 120\n",
      "Length: 9, Size in bytes: 184\n",
      "Length: 10, Size in bytes: 184\n",
      "Length: 11, Size in bytes: 184\n",
      "Length: 12, Size in bytes: 184\n",
      "Length: 13, Size in bytes: 184\n",
      "Length: 14, Size in bytes: 184\n",
      "Length: 15, Size in bytes: 184\n",
      "Length: 16, Size in bytes: 184\n",
      "Length: 17, Size in bytes: 248\n",
      "Length: 18, Size in bytes: 248\n",
      "Length: 19, Size in bytes: 248\n",
      "Length: 20, Size in bytes: 248\n",
      "Length: 21, Size in bytes: 248\n",
      "Length: 22, Size in bytes: 248\n",
      "Length: 23, Size in bytes: 248\n",
      "Length: 24, Size in bytes: 248\n",
      "Length: 25, Size in bytes: 312\n",
      "Length: 26, Size in bytes: 312\n",
      "Length: 27, Size in bytes: 312\n",
      "Length: 28, Size in bytes: 312\n",
      "Length: 29, Size in bytes: 312\n",
      "Length: 30, Size in bytes: 312\n",
      "Length: 31, Size in bytes: 312\n",
      "Length: 32, Size in bytes: 312\n",
      "Length: 33, Size in bytes: 376\n",
      "Length: 34, Size in bytes: 376\n",
      "Length: 35, Size in bytes: 376\n",
      "Length: 36, Size in bytes: 376\n",
      "Length: 37, Size in bytes: 376\n",
      "Length: 38, Size in bytes: 376\n",
      "Length: 39, Size in bytes: 376\n",
      "Length: 40, Size in bytes: 376\n"
     ]
    }
   ],
   "source": [
    "import sys\n",
    "\n",
    "arr = []\n",
    "for i in range(40):\n",
    "    arr.append(i)\n",
    "    print(f\"Length: {len(arr)}, Size in bytes: {sys.getsizeof(arr)}\")\n"
   ]
  },
  {
   "cell_type": "code",
   "execution_count": 23,
   "id": "ca60ba09-1abe-4807-8cd6-6eca3e424be8",
   "metadata": {},
   "outputs": [
    {
     "name": "stdout",
     "output_type": "stream",
     "text": [
      "a : apple\n",
      "b : banana\n",
      "c : cherry\n"
     ]
    }
   ],
   "source": [
    "class AlwaysSameHash:\n",
    "    def __init__(self, value):\n",
    "        self.value = value\n",
    "    def __hash__(self):\n",
    "        return 42\n",
    "    def __eq__(self, other):\n",
    "        return self.value == other.value\n",
    "\n",
    "d = {}\n",
    "d[AlwaysSameHash('a')] = \"apple\"\n",
    "d[AlwaysSameHash('b')] = \"banana\"\n",
    "d[AlwaysSameHash('c')] = \"cherry\"\n",
    "\n",
    "for k in d:\n",
    "    print(k.value, \":\", d[k])\n"
   ]
  },
  {
   "cell_type": "code",
   "execution_count": null,
   "id": "2f9c011a-d529-4a40-9e21-791a0231208c",
   "metadata": {},
   "outputs": [],
   "source": []
  }
 ],
 "metadata": {
  "kernelspec": {
   "display_name": "Python 3 (ipykernel)",
   "language": "python",
   "name": "python3"
  },
  "language_info": {
   "codemirror_mode": {
    "name": "ipython",
    "version": 3
   },
   "file_extension": ".py",
   "mimetype": "text/x-python",
   "name": "python",
   "nbconvert_exporter": "python",
   "pygments_lexer": "ipython3",
   "version": "3.13.3"
  }
 },
 "nbformat": 4,
 "nbformat_minor": 5
}
