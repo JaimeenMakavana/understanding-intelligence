{
 "cells": [
  {
   "cell_type": "markdown",
   "id": "b7aa2c05",
   "metadata": {
    "id": "b7aa2c05"
   },
   "source": [
    "# LOOPS"
   ]
  },
  {
   "cell_type": "markdown",
   "id": "c626ed9d",
   "metadata": {
    "id": "c626ed9d"
   },
   "source": [
    "## While Loop:"
   ]
  },
  {
   "cell_type": "raw",
   "id": "f55d20ee",
   "metadata": {
    "id": "f55d20ee"
   },
   "source": [
    "In python, while loop is used to execute a block of statements\n",
    "repeatedly until a given a condition is satisfied.\n",
    "And when the condition becomes false, the line immediately\n",
    "after the loop in program is executed."
   ]
  },
  {
   "cell_type": "code",
   "execution_count": 1,
   "id": "03357265",
   "metadata": {
    "colab": {
     "base_uri": "https://localhost:8080/"
    },
    "executionInfo": {
     "elapsed": 9,
     "status": "ok",
     "timestamp": 1697952449947,
     "user": {
      "displayName": "Rama Chandra Kotturu",
      "userId": "02243285469857073193"
     },
     "user_tz": -330
    },
    "id": "03357265",
    "outputId": "c220f0eb-9c96-4c01-fa6b-ddbb6889b3af"
   },
   "outputs": [
    {
     "name": "stdout",
     "output_type": "stream",
     "text": [
      "While condition is true 1\n",
      "While condition is true 2\n",
      "While condition is true 3\n",
      "While condition is true 4\n",
      "While condition is true 5\n"
     ]
    }
   ],
   "source": [
    "# Simple while loop\n",
    "i=1 # initialization\n",
    "while i<6: # condition\n",
    "    print('While condition is true',i)\n",
    "    i=i+1 # increment / decrement"
   ]
  },
  {
   "cell_type": "code",
   "execution_count": 1,
   "id": "fdd3cd8a-ead1-4f02-b931-b7e8ae85bbaa",
   "metadata": {},
   "outputs": [
    {
     "name": "stdout",
     "output_type": "stream",
     "text": [
      "jaimeen\n",
      "jaimeen\n",
      "jaimeen\n",
      "jaimeen\n",
      "jaimeen\n"
     ]
    }
   ],
   "source": [
    "i = 1\n",
    "while i < 6:\n",
    "    print(\"jaimeen\")\n",
    "    i+= 1"
   ]
  },
  {
   "cell_type": "code",
   "execution_count": 8,
   "id": "3ae310d7",
   "metadata": {
    "id": "3ae310d7"
   },
   "outputs": [
    {
     "name": "stdout",
     "output_type": "stream",
     "text": [
      "While condition is true 1\n",
      "While condition is true 2\n",
      "While condition is true 3\n",
      "While condition is true 4\n",
      "While condition is true 5\n",
      "6\n"
     ]
    }
   ],
   "source": [
    "i=1\n",
    "while i<6:\n",
    "    print('While condition is true',i)\n",
    "    i+=1\n",
    "print(i)"
   ]
  },
  {
   "cell_type": "code",
   "execution_count": 2,
   "id": "1d3818fc",
   "metadata": {
    "colab": {
     "base_uri": "https://localhost:8080/"
    },
    "executionInfo": {
     "elapsed": 8,
     "status": "ok",
     "timestamp": 1688797801387,
     "user": {
      "displayName": "Rama Chandra Kotturu",
      "userId": "02243285469857073193"
     },
     "user_tz": -330
    },
    "id": "1d3818fc",
    "outputId": "a1ff61b3-29c4-4eb0-9238-04f296c3f081"
   },
   "outputs": [
    {
     "name": "stdout",
     "output_type": "stream",
     "text": [
      "1\n",
      "2\n",
      "3\n",
      "4\n"
     ]
    }
   ],
   "source": [
    "# While loop with break.\n",
    "#It is used to stop loop even if while condition is true\n",
    "i=1\n",
    "while i<6:\n",
    "    print(i)\n",
    "    i+=1\n",
    "    if i==5:\n",
    "        break"
   ]
  },
  {
   "cell_type": "code",
   "execution_count": 6,
   "id": "1a240bae",
   "metadata": {
    "id": "1a240bae"
   },
   "outputs": [
    {
     "name": "stdout",
     "output_type": "stream",
     "text": [
      "1\n",
      "2\n",
      "4\n",
      "5\n",
      "6\n"
     ]
    }
   ],
   "source": [
    "# While loop with continue statement.\n",
    "i=0\n",
    "while i<6:\n",
    "    i+=1\n",
    "    if i==3:\n",
    "        continue\n",
    "    print(i)   # Block of code"
   ]
  },
  {
   "cell_type": "code",
   "execution_count": 2,
   "id": "379d5289",
   "metadata": {
    "colab": {
     "base_uri": "https://localhost:8080/"
    },
    "executionInfo": {
     "elapsed": 6,
     "status": "ok",
     "timestamp": 1697952628556,
     "user": {
      "displayName": "Rama Chandra Kotturu",
      "userId": "02243285469857073193"
     },
     "user_tz": -330
    },
    "id": "379d5289",
    "outputId": "e897a85b-6457-4607-cb7a-04780242cf48"
   },
   "outputs": [
    {
     "name": "stdout",
     "output_type": "stream",
     "text": [
      "4\n",
      "5\n",
      "6\n",
      "While loop condition is false\n"
     ]
    }
   ],
   "source": [
    "# While loop with else statement.\n",
    "i=3\n",
    "while i <6:\n",
    "    i+=1\n",
    "    print(i)\n",
    "else:\n",
    "    print('While loop condition is false')"
   ]
  },
  {
   "cell_type": "code",
   "execution_count": 3,
   "id": "48b9149e",
   "metadata": {
    "colab": {
     "base_uri": "https://localhost:8080/"
    },
    "executionInfo": {
     "elapsed": 383,
     "status": "ok",
     "timestamp": 1697952668155,
     "user": {
      "displayName": "Rama Chandra Kotturu",
      "userId": "02243285469857073193"
     },
     "user_tz": -330
    },
    "id": "48b9149e",
    "outputId": "3564a109-681c-4d0d-a22c-898691880b04"
   },
   "outputs": [
    {
     "name": "stdout",
     "output_type": "stream",
     "text": [
      "Data science 2\n",
      "Data science 3\n"
     ]
    }
   ],
   "source": [
    "count = 1\n",
    "while (count < 3):\n",
    "    count = count + 1\n",
    "    print(\"Data science\",count)\n",
    "    "
   ]
  },
  {
   "cell_type": "code",
   "execution_count": 8,
   "id": "8xCHhXtz5E7S",
   "metadata": {
    "id": "8xCHhXtz5E7S"
   },
   "outputs": [
    {
     "name": "stdin",
     "output_type": "stream",
     "text": [
      "Enter a number 67\n"
     ]
    },
    {
     "name": "stdout",
     "output_type": "stream",
     "text": [
      "Prime\n"
     ]
    }
   ],
   "source": [
    "# To check a given number is prime or composite\n",
    "num=int(input(\"Enter a number\"))\n",
    "i=1\n",
    "count=0\n",
    "while i<=num/2:\n",
    "    if num%i==0:\n",
    "        count=count+1\n",
    "    i+=1\n",
    "if count==1:\n",
    "  print(\"Prime\")\n",
    "else:\n",
    "  print(\"Composite\")"
   ]
  },
  {
   "cell_type": "markdown",
   "id": "a5a173b3",
   "metadata": {
    "id": "a5a173b3"
   },
   "source": [
    "# FOR LOOP\n"
   ]
  },
  {
   "cell_type": "raw",
   "id": "2ece8894",
   "metadata": {
    "id": "2ece8894"
   },
   "source": [
    "Python for loops are used to loop through an iterable object\n",
    "(like a list, tuple, set, etc.) and perform the same action for each\n",
    "item/element."
   ]
  },
  {
   "cell_type": "code",
   "execution_count": 18,
   "id": "3c72273a",
   "metadata": {
    "id": "3c72273a"
   },
   "outputs": [
    {
     "name": "stdout",
     "output_type": "stream",
     "text": [
      "1,2,3,4,5,6,7,8,9,0,12,34,55,"
     ]
    }
   ],
   "source": [
    "l=[1,2,3,4,5,6,7,8,9,0,12,34,55]\n",
    "for c in l:\n",
    "    print(c,end=',')"
   ]
  },
  {
   "cell_type": "code",
   "execution_count": 1,
   "id": "f2a1ad9e",
   "metadata": {
    "id": "f2a1ad9e"
   },
   "outputs": [
    {
     "name": "stdout",
     "output_type": "stream",
     "text": [
      "RED\n",
      "GREEB\n",
      "BLUE\n",
      "WHITE\n"
     ]
    }
   ],
   "source": [
    "# fruits=['Apple','Banana','Mango','Watermelon']\n",
    "# for i in fruits:\n",
    "#     print(i)\n",
    "\n",
    "l1 = ['RED','GREEB','BLUE','WHITE']\n",
    "for i in l1:\n",
    "    print(i)"
   ]
  },
  {
   "cell_type": "code",
   "execution_count": 17,
   "id": "3e009e99",
   "metadata": {
    "id": "3e009e99"
   },
   "outputs": [
    {
     "name": "stdout",
     "output_type": "stream",
     "text": [
      "T,h,i,s, ,i,s, ,d,a,t,a, ,s,c,i,e,n,c,e, ,c,o,u,r,s,e,"
     ]
    }
   ],
   "source": [
    "s='This is data science course'\n",
    "for i in s:\n",
    "    print(i, end = ',')"
   ]
  },
  {
   "cell_type": "code",
   "execution_count": 15,
   "id": "8b29b31c",
   "metadata": {
    "id": "8b29b31c"
   },
   "outputs": [
    {
     "name": "stdout",
     "output_type": "stream",
     "text": [
      "1\n",
      "2\n",
      "3\n",
      "4\n",
      "5\n",
      "6\n",
      "7\n",
      "8\n",
      "9\n"
     ]
    }
   ],
   "source": [
    "## Range function\n",
    "for i in range(1,10):\n",
    "# range is a generator function which\n",
    "#yields numbers from specified start to end point\n",
    "    print(i)"
   ]
  },
  {
   "cell_type": "code",
   "execution_count": null,
   "id": "599af1d8",
   "metadata": {
    "id": "599af1d8"
   },
   "outputs": [],
   "source": [
    "for i in range(0,20,2):\n",
    "    # lower limit,upper limit,step\n",
    "    print(i)"
   ]
  },
  {
   "cell_type": "code",
   "execution_count": 19,
   "id": "be482593",
   "metadata": {
    "id": "be482593"
   },
   "outputs": [],
   "source": [
    "# Nested loops\n",
    "list1=['Maths','Science','Geo','Eco','Social']\n",
    "list2=[78,90,70,56,90]"
   ]
  },
  {
   "cell_type": "code",
   "execution_count": 20,
   "id": "836a32d0",
   "metadata": {
    "id": "836a32d0"
   },
   "outputs": [
    {
     "name": "stdout",
     "output_type": "stream",
     "text": [
      "Maths 78\n",
      "Maths 90\n",
      "Maths 70\n",
      "Maths 56\n",
      "Maths 90\n",
      "Science 78\n",
      "Science 90\n",
      "Science 70\n",
      "Science 56\n",
      "Science 90\n",
      "Geo 78\n",
      "Geo 90\n",
      "Geo 70\n",
      "Geo 56\n",
      "Geo 90\n",
      "Eco 78\n",
      "Eco 90\n",
      "Eco 70\n",
      "Eco 56\n",
      "Eco 90\n",
      "Social 78\n",
      "Social 90\n",
      "Social 70\n",
      "Social 56\n",
      "Social 90\n"
     ]
    }
   ],
   "source": [
    "for i in list1: # Outer loop\n",
    "    for k in list2: # inner loop\n",
    "        print(i,k)"
   ]
  },
  {
   "cell_type": "code",
   "execution_count": 21,
   "id": "bc997ca8",
   "metadata": {
    "id": "bc997ca8"
   },
   "outputs": [
    {
     "name": "stdout",
     "output_type": "stream",
     "text": [
      "red Apple\n",
      "red Banana\n",
      "red Orange\n",
      "blue Apple\n",
      "blue Banana\n",
      "blue Orange\n",
      "green Apple\n",
      "green Banana\n",
      "green Orange\n"
     ]
    }
   ],
   "source": [
    "a=['red','blue','green']\n",
    "b=['Apple','Banana','Orange']\n",
    "for i in a: ## outer loop\n",
    "    for h in b: ## inner loop\n",
    "        print(i,h)"
   ]
  },
  {
   "cell_type": "code",
   "execution_count": 22,
   "id": "9147886f",
   "metadata": {
    "id": "9147886f"
   },
   "outputs": [],
   "source": [
    "l = [34,66,43,23,27,88,74,16]"
   ]
  },
  {
   "cell_type": "code",
   "execution_count": 26,
   "id": "e1249b26",
   "metadata": {
    "id": "e1249b26"
   },
   "outputs": [
    {
     "name": "stdout",
     "output_type": "stream",
     "text": [
      "34 is even\n",
      "66 is even\n",
      "43 is odd\n",
      "23 is odd\n",
      "27 is odd\n",
      "88 is even\n",
      "74 is even\n",
      "16 is even\n"
     ]
    }
   ],
   "source": [
    "for c in l:\n",
    "    if(c%2==0):\n",
    "        print(c,'is even')\n",
    "    else:\n",
    "        print(c,'is odd')"
   ]
  },
  {
   "cell_type": "code",
   "execution_count": 27,
   "id": "e92fc537",
   "metadata": {
    "id": "e92fc537"
   },
   "outputs": [],
   "source": [
    "city = ['bangalore', 'Mumbai',  'Pune']"
   ]
  },
  {
   "cell_type": "code",
   "execution_count": null,
   "id": "0d713b25-9dcb-46a8-9028-64206d254fce",
   "metadata": {},
   "outputs": [],
   "source": []
  },
  {
   "cell_type": "code",
   "execution_count": 32,
   "id": "bdc52900",
   "metadata": {
    "id": "bdc52900"
   },
   "outputs": [
    {
     "name": "stdout",
     "output_type": "stream",
     "text": [
      "Current city : bangalore\n",
      "Current city : Mumbai\n",
      "Current city : Pune\n",
      "Good bye!\n"
     ]
    }
   ],
   "source": [
    "for index in range(len(city)):\n",
    "    print('Current city :', city[index])\n",
    "\n",
    "print(\"Good bye!\")"
   ]
  },
  {
   "cell_type": "markdown",
   "id": "27b23a5e",
   "metadata": {
    "id": "27b23a5e"
   },
   "source": [
    "# Function"
   ]
  },
  {
   "cell_type": "raw",
   "id": "a0398f55",
   "metadata": {
    "id": "a0398f55"
   },
   "source": [
    "A function is a block of organized code written to carry out a specified task.\n",
    "\n",
    "Functions help break our program into smaller and modular chunks for better readability. Information can be passed into a function as arguments.\n",
    "\n",
    "Parameters are specified after the function name inside the parentheses.\n",
    "\n",
    "We can add as many parameters as we want. Parameters must be separated with a comma. A function may or may not return data.\n",
    "\n",
    "In Python a function is defined using the def keyword"
   ]
  },
  {
   "cell_type": "markdown",
   "id": "b7c9fddd",
   "metadata": {
    "id": "b7c9fddd"
   },
   "source": [
    "## Parameter VS Argument"
   ]
  },
  {
   "cell_type": "raw",
   "id": "df415297",
   "metadata": {
    "id": "df415297"
   },
   "source": [
    "A parameter is the variable listed inside the parentheses in the function definition. An argument is the value that is sent to the function when it is called."
   ]
  },
  {
   "cell_type": "markdown",
   "id": "d5ca03dc",
   "metadata": {
    "id": "d5ca03dc"
   },
   "source": [
    "## Three types of functions in Python:-\n",
    "\n",
    "1) Built-in function :- Python predefined functions that are readily available for use like min() , max() , sum() , print() etc.\n",
    "\n",
    "2) User-Defined Functions:- Function that we define ourselves to perform a specific task.\n",
    "\n",
    "3) Anonymous functions : Function that is defined without a name. Anonymous functions are also called as lambda functions. They are not declared with the def keyword.\n"
   ]
  },
  {
   "cell_type": "markdown",
   "id": "692c41b2",
   "metadata": {
    "id": "692c41b2"
   },
   "source": [
    "1) Python Function with no argument and no return value.\n",
    "\n",
    "2) Function with no argument and with a Return value.\n",
    "\n",
    "\n",
    "3) Python Function with argument and No Return value.\n",
    "\n",
    "4) Function with argument and return value."
   ]
  },
  {
   "cell_type": "code",
   "execution_count": 9,
   "id": "9275a626",
   "metadata": {
    "id": "9275a626"
   },
   "outputs": [],
   "source": [
    "#  Syntax Definition of function\n",
    "def name_of_function():\n",
    "    print('Hello')"
   ]
  },
  {
   "cell_type": "code",
   "execution_count": 10,
   "id": "704c299b-5c27-4049-985d-6e0b7710b021",
   "metadata": {},
   "outputs": [
    {
     "name": "stdout",
     "output_type": "stream",
     "text": [
      "Hello\n"
     ]
    }
   ],
   "source": [
    "name_of_function()"
   ]
  },
  {
   "cell_type": "code",
   "execution_count": 6,
   "id": "097d047d",
   "metadata": {
    "id": "097d047d"
   },
   "outputs": [
    {
     "name": "stdout",
     "output_type": "stream",
     "text": [
      "Hello\n"
     ]
    }
   ],
   "source": [
    "# Syntax Calling the function\n",
    "name_of_function()"
   ]
  },
  {
   "cell_type": "code",
   "execution_count": null,
   "id": "61384a05",
   "metadata": {
    "id": "61384a05"
   },
   "outputs": [],
   "source": [
    "## create a function with name as your name\n",
    "##and which print your name\n"
   ]
  },
  {
   "cell_type": "code",
   "execution_count": 7,
   "id": "25a5dfcf",
   "metadata": {
    "id": "25a5dfcf"
   },
   "outputs": [],
   "source": [
    "def area_of_circle(r):\n",
    "    area=3.14*r*r\n",
    "    print(area)"
   ]
  },
  {
   "cell_type": "code",
   "execution_count": 8,
   "id": "be24ecee",
   "metadata": {
    "id": "be24ecee"
   },
   "outputs": [
    {
     "name": "stdout",
     "output_type": "stream",
     "text": [
      "12.56\n"
     ]
    }
   ],
   "source": [
    "area_of_circle(2)"
   ]
  },
  {
   "cell_type": "code",
   "execution_count": 9,
   "id": "1692d537",
   "metadata": {
    "id": "1692d537"
   },
   "outputs": [],
   "source": [
    "def perimeter_of_square(side):\n",
    "    peri=4*side\n",
    "    print(peri)"
   ]
  },
  {
   "cell_type": "code",
   "execution_count": 10,
   "id": "33daad53",
   "metadata": {
    "id": "33daad53"
   },
   "outputs": [],
   "source": [
    "side=4\n",
    "side=5"
   ]
  },
  {
   "cell_type": "code",
   "execution_count": 11,
   "id": "155e3494",
   "metadata": {
    "id": "155e3494"
   },
   "outputs": [
    {
     "name": "stdout",
     "output_type": "stream",
     "text": [
      "20\n"
     ]
    }
   ],
   "source": [
    "perimeter_of_square(5)"
   ]
  },
  {
   "cell_type": "code",
   "execution_count": 12,
   "id": "25378a29",
   "metadata": {
    "id": "25378a29"
   },
   "outputs": [],
   "source": [
    "def rectangle(l,b):\n",
    "    area=l*b\n",
    "    return area"
   ]
  },
  {
   "cell_type": "code",
   "execution_count": 13,
   "id": "ccea62a7",
   "metadata": {
    "id": "ccea62a7"
   },
   "outputs": [
    {
     "data": {
      "text/plain": [
       "2"
      ]
     },
     "execution_count": 13,
     "metadata": {},
     "output_type": "execute_result"
    }
   ],
   "source": [
    "rectangle(1,2)"
   ]
  },
  {
   "cell_type": "code",
   "execution_count": 14,
   "id": "f0561ecf",
   "metadata": {
    "id": "f0561ecf"
   },
   "outputs": [],
   "source": [
    "def  details(name,userid,country):\n",
    "    #  Function  to  print  User  details\n",
    "    print('Name :- ', name)\n",
    "    print('User ID is :- ', userid)\n",
    "    print('Country  :-  ',country)"
   ]
  },
  {
   "cell_type": "code",
   "execution_count": 15,
   "id": "d151795a",
   "metadata": {
    "id": "d151795a"
   },
   "outputs": [
    {
     "name": "stdout",
     "output_type": "stream",
     "text": [
      "Name :-  Data\n",
      "User ID is :-  Data123\n",
      "Country  :-   India\n"
     ]
    }
   ],
   "source": [
    "details('Data', 'Data123' , 'India')"
   ]
  },
  {
   "cell_type": "code",
   "execution_count": null,
   "id": "b5224979",
   "metadata": {
    "id": "b5224979"
   },
   "outputs": [],
   "source": [
    "#Task:-Write function to get a number from users and check whether given number is odd or even"
   ]
  },
  {
   "cell_type": "code",
   "execution_count": null,
   "id": "79ae1ef8",
   "metadata": {
    "id": "79ae1ef8"
   },
   "outputs": [],
   "source": [
    "number()"
   ]
  },
  {
   "cell_type": "code",
   "execution_count": 1,
   "id": "3c17778f",
   "metadata": {
    "id": "3c17778f"
   },
   "outputs": [],
   "source": [
    "def evenorodd():\n",
    "    a=int(input('Enter your number'))\n",
    "    if a%2==0:\n",
    "        print('The number is even')\n",
    "    else:\n",
    "        print('The number is odd')"
   ]
  },
  {
   "cell_type": "code",
   "execution_count": 17,
   "id": "60c941ee",
   "metadata": {
    "id": "60c941ee"
   },
   "outputs": [
    {
     "name": "stdin",
     "output_type": "stream",
     "text": [
      "Enter your number 5\n"
     ]
    },
    {
     "name": "stdout",
     "output_type": "stream",
     "text": [
      "The number is odd\n"
     ]
    }
   ],
   "source": [
    "evenorodd()"
   ]
  },
  {
   "cell_type": "code",
   "execution_count": 11,
   "id": "6bcf8445",
   "metadata": {
    "id": "6bcf8445"
   },
   "outputs": [],
   "source": [
    "##Python Function with no argument and no return value\n",
    "\n",
    "def noargument():\n",
    "    print()\n"
   ]
  },
  {
   "cell_type": "code",
   "execution_count": 12,
   "id": "c5fc7ca1",
   "metadata": {
    "id": "c5fc7ca1"
   },
   "outputs": [
    {
     "ename": "TypeError",
     "evalue": "noargument() takes 0 positional arguments but 1 was given",
     "output_type": "error",
     "traceback": [
      "\u001b[31m---------------------------------------------------------------------------\u001b[39m",
      "\u001b[31mTypeError\u001b[39m                                 Traceback (most recent call last)",
      "\u001b[36mCell\u001b[39m\u001b[36m \u001b[39m\u001b[32mIn[12]\u001b[39m\u001b[32m, line 1\u001b[39m\n\u001b[32m----> \u001b[39m\u001b[32m1\u001b[39m noargument(\u001b[33m'\u001b[39m\u001b[33mhi\u001b[39m\u001b[33m'\u001b[39m)\n",
      "\u001b[31mTypeError\u001b[39m: noargument() takes 0 positional arguments but 1 was given"
     ]
    }
   ],
   "source": [
    "noargument('hi')"
   ]
  },
  {
   "cell_type": "code",
   "execution_count": 21,
   "id": "5c10ef4e",
   "metadata": {
    "id": "5c10ef4e"
   },
   "outputs": [],
   "source": [
    "## Function with no argument and with a Return value\n",
    "def argu():\n",
    "    print('This is no argument but return value function')"
   ]
  },
  {
   "cell_type": "code",
   "execution_count": 22,
   "id": "92185096",
   "metadata": {
    "id": "92185096"
   },
   "outputs": [
    {
     "name": "stdout",
     "output_type": "stream",
     "text": [
      "This is no argument but return value function\n"
     ]
    }
   ],
   "source": [
    "argu()"
   ]
  },
  {
   "cell_type": "code",
   "execution_count": 23,
   "id": "0fa1ca02",
   "metadata": {
    "id": "0fa1ca02"
   },
   "outputs": [],
   "source": [
    "##Python Function with argument and No Return value\n",
    "\n",
    "def noreturn(a): ## a is parameter or input to the function\n",
    "    print()"
   ]
  },
  {
   "cell_type": "code",
   "execution_count": 24,
   "id": "5c440c57",
   "metadata": {
    "id": "5c440c57"
   },
   "outputs": [
    {
     "name": "stdout",
     "output_type": "stream",
     "text": [
      "\n"
     ]
    }
   ],
   "source": [
    "noreturn(6)"
   ]
  },
  {
   "cell_type": "markdown",
   "id": "7c6930aa",
   "metadata": {
    "id": "7c6930aa"
   },
   "source": [
    "### Docstrings:\n",
    "1)\tDocstrings provide a convenient way of associating documentation with functions,\n",
    "classes, methods or modules.\n",
    "\n",
    "2)\tThey appear right after the definition of a function, method, class, or module.\n"
   ]
  },
  {
   "cell_type": "code",
   "execution_count": 23,
   "id": "186a3c97",
   "metadata": {
    "id": "186a3c97"
   },
   "outputs": [],
   "source": [
    "## Function with argument and return value\n",
    "def squareofnum(a):\n",
    "      \n",
    "    return a**2"
   ]
  },
  {
   "cell_type": "code",
   "execution_count": 24,
   "id": "a4e55d11",
   "metadata": {
    "id": "a4e55d11",
    "scrolled": true
   },
   "outputs": [
    {
     "data": {
      "text/plain": [
       "100"
      ]
     },
     "execution_count": 24,
     "metadata": {},
     "output_type": "execute_result"
    }
   ],
   "source": [
    "squareofnum(10)"
   ]
  },
  {
   "cell_type": "code",
   "execution_count": 25,
   "id": "0e1642a3",
   "metadata": {
    "id": "0e1642a3"
   },
   "outputs": [],
   "source": [
    "q=squareofnum(10)"
   ]
  },
  {
   "cell_type": "code",
   "execution_count": 26,
   "id": "4611cea0",
   "metadata": {
    "id": "4611cea0"
   },
   "outputs": [
    {
     "name": "stdout",
     "output_type": "stream",
     "text": [
      "100\n"
     ]
    }
   ],
   "source": [
    "print(q)"
   ]
  },
  {
   "cell_type": "code",
   "execution_count": 27,
   "id": "4f4e3d11",
   "metadata": {
    "id": "4f4e3d11"
   },
   "outputs": [
    {
     "name": "stdout",
     "output_type": "stream",
     "text": [
      "None document\n"
     ]
    }
   ],
   "source": [
    "print(squareofnum.__doc__, \"document\")"
   ]
  },
  {
   "cell_type": "code",
   "execution_count": null,
   "id": "13781a50-3a73-4556-9b3d-7b39a70f0f45",
   "metadata": {},
   "outputs": [],
   "source": [
    "squareofnum"
   ]
  },
  {
   "cell_type": "code",
   "execution_count": 51,
   "id": "ac1bddde",
   "metadata": {
    "id": "ac1bddde"
   },
   "outputs": [],
   "source": [
    "#Area of circle,perimeter of circle,perimeter of rectangle and square"
   ]
  },
  {
   "cell_type": "code",
   "execution_count": 54,
   "id": "a097ac01",
   "metadata": {
    "id": "a097ac01"
   },
   "outputs": [],
   "source": [
    "def areaofcircle():\n",
    "    r=float(input('Enter radius:'))\n",
    "    return 3.14*r*r"
   ]
  },
  {
   "cell_type": "code",
   "execution_count": null,
   "id": "2648c462",
   "metadata": {
    "id": "2648c462"
   },
   "outputs": [],
   "source": [
    "areaofcircle()"
   ]
  },
  {
   "cell_type": "markdown",
   "id": "1e2b84f0",
   "metadata": {
    "id": "1e2b84f0"
   },
   "source": [
    "## Lambda\n",
    "\n",
    " 1) A lambda function is an anonymous function (function without a name).\n",
    "\n",
    " 2) Lambda functions can have any number of arguments but only one expression.\n",
    " The expression is evaluated and returned.\n",
    "\n",
    " 3) We use lambda functions when we require a nameless function for a short period of time.\n"
   ]
  },
  {
   "cell_type": "markdown",
   "id": "8304ef24",
   "metadata": {
    "id": "8304ef24"
   },
   "source": [
    "![image.png](attachment:image.png)"
   ]
  },
  {
   "cell_type": "code",
   "execution_count": 30,
   "id": "c5b1a578",
   "metadata": {
    "id": "c5b1a578"
   },
   "outputs": [],
   "source": [
    "addition = lambda  a : a  + 10\n",
    "# This lambda function adds value 10 to an argumentb"
   ]
  },
  {
   "cell_type": "code",
   "execution_count": 31,
   "id": "270aa315",
   "metadata": {
    "id": "270aa315"
   },
   "outputs": [
    {
     "name": "stdout",
     "output_type": "stream",
     "text": [
      "18\n"
     ]
    }
   ],
   "source": [
    "print(addition(8))"
   ]
  },
  {
   "cell_type": "code",
   "execution_count": 32,
   "id": "4c661fb0",
   "metadata": {
    "id": "4c661fb0"
   },
   "outputs": [
    {
     "name": "stdout",
     "output_type": "stream",
     "text": [
      "30\n"
     ]
    }
   ],
   "source": [
    "product  =  lambda  a,  b  :  a  *  b\n",
    "#This  lambda  function  takes  two  arguments  (a,b)\n",
    "#and do the multiplication\n",
    "print(product(5,  6))"
   ]
  },
  {
   "cell_type": "markdown",
   "id": "b49795bf",
   "metadata": {
    "id": "b49795bf"
   },
   "source": [
    "## Filter Function\n",
    "\n"
   ]
  },
  {
   "cell_type": "raw",
   "id": "6e9d5c6f",
   "metadata": {
    "id": "6e9d5c6f"
   },
   "source": [
    "The filter() method filters the given sequence with the help of a function that tests each element in the sequence to be true or not."
   ]
  },
  {
   "cell_type": "code",
   "execution_count": null,
   "id": "08c7354c",
   "metadata": {
    "id": "08c7354c",
    "outputId": "7fe19fc6-dee1-488d-9042-e70a86422a9d"
   },
   "outputs": [
    {
     "name": "stdout",
     "output_type": "stream",
     "text": [
      "[1, 3, 5, 13]\n",
      "[0, 2, 8]\n"
     ]
    }
   ],
   "source": [
    "# a list contains both even and odd numbers.\n",
    "seq = [0, 1, 2, 3, 5, 8, 13]\n",
    "\n",
    "# result contains odd numbers of the list\n",
    "result = filter(lambda x: x % 2 != 0, seq)\n",
    "print(list(result))\n",
    "\n",
    "# result contains even numbers of the list\n",
    "result = filter(lambda x: x % 2 == 0, seq)\n",
    "print(list(result))"
   ]
  },
  {
   "cell_type": "markdown",
   "id": "4eb23853",
   "metadata": {
    "id": "4eb23853"
   },
   "source": [
    "## Map Function"
   ]
  },
  {
   "cell_type": "raw",
   "id": "3c233d8d",
   "metadata": {
    "id": "3c233d8d"
   },
   "source": [
    "map() function returns a map object(which is an iterator) of the results\n",
    "after applying the given function to each item of a given\n",
    "iterable (list, tuple etc.)\n",
    "\n"
   ]
  },
  {
   "cell_type": "code",
   "execution_count": 57,
   "id": "6f118feb",
   "metadata": {
    "id": "6f118feb",
    "outputId": "00e5d4ed-bd17-4ee0-9c92-768c7190f27d"
   },
   "outputs": [
    {
     "name": "stdout",
     "output_type": "stream",
     "text": [
      "[2, 4, 6, 8]\n"
     ]
    }
   ],
   "source": [
    "# Return double of n\n",
    "def addition(n):\n",
    "    return n + n\n",
    "\n",
    "# We double all numbers using map()\n",
    "numbers = (1, 2, 3, 4)\n",
    "result = map(addition, numbers)\n",
    "print(list(result))"
   ]
  },
  {
   "cell_type": "code",
   "execution_count": 59,
   "id": "9b787705",
   "metadata": {
    "id": "9b787705"
   },
   "outputs": [
    {
     "name": "stdout",
     "output_type": "stream",
     "text": [
      "[2, 4, 6, 8]\n"
     ]
    }
   ],
   "source": [
    "# Double all numbers using map and lambda\n",
    "numbers = (1, 2, 3, 4)\n",
    "result = map(lambda x: x + x, numbers)\n",
    "print(list(result))"
   ]
  },
  {
   "cell_type": "code",
   "execution_count": 60,
   "id": "5eb98f56",
   "metadata": {
    "id": "5eb98f56"
   },
   "outputs": [
    {
     "name": "stdout",
     "output_type": "stream",
     "text": [
      "[]\n"
     ]
    }
   ],
   "source": [
    "print(list(result))"
   ]
  },
  {
   "cell_type": "code",
   "execution_count": 62,
   "id": "bd187431",
   "metadata": {
    "id": "bd187431",
    "outputId": "e0e291d1-09fd-4733-a33e-e6350c426e89"
   },
   "outputs": [
    {
     "name": "stdout",
     "output_type": "stream",
     "text": [
      "[5, 7, 9]\n"
     ]
    }
   ],
   "source": [
    "# Add two lists using map and lambda\n",
    "\n",
    "numbers1 = [1, 2, 3]\n",
    "numbers2 = [4, 5, 6]\n",
    "\n",
    "result = map(lambda x, y: x + y, numbers1, numbers2)\n",
    "print(list(result))"
   ]
  },
  {
   "cell_type": "code",
   "execution_count": 64,
   "id": "92d8a52a",
   "metadata": {
    "id": "92d8a52a",
    "outputId": "cb0dc86b-654c-439b-c379-a40bd7c0b8d1"
   },
   "outputs": [
    {
     "name": "stdout",
     "output_type": "stream",
     "text": [
      "[['s', 'a', 't'], ['b', 'a', 't'], ['c', 'a', 't'], ['m', 'a', 't']]\n"
     ]
    }
   ],
   "source": [
    "# List of strings\n",
    "l = ['sat', 'bat', 'cat', 'mat']\n",
    "\n",
    "# map() can listify the list of strings individually\n",
    "test = list(map(list, l))\n",
    "print(test)"
   ]
  },
  {
   "cell_type": "markdown",
   "id": "74baea00",
   "metadata": {
    "id": "74baea00"
   },
   "source": [
    "## Reduce Function"
   ]
  },
  {
   "cell_type": "raw",
   "id": "c01df593",
   "metadata": {
    "id": "c01df593"
   },
   "source": [
    "The reduce(fun,seq) function is used to apply a particular function passed in\n",
    "its argument to all of the list elements mentioned in the sequence passed\n",
    "along.This function is defined in “functools” module."
   ]
  },
  {
   "cell_type": "code",
   "execution_count": 1,
   "id": "467efe2d",
   "metadata": {
    "id": "467efe2d",
    "outputId": "3f8a2eb2-7fc2-47a9-d45e-d8d0b43a5b50"
   },
   "outputs": [
    {
     "name": "stdout",
     "output_type": "stream",
     "text": [
      "The sum of the list elements is : 17\n"
     ]
    }
   ],
   "source": [
    "# importing functools for reduce()\n",
    "import functools\n",
    "\n",
    "# initializing list\n",
    "lis = [1, 3, 5, 6, 2]\n",
    "\n",
    "# using reduce to compute sum of list\n",
    "print(\"The sum of the list elements is : \", end=\"\")\n",
    "print(functools.reduce(lambda a, b: a+b, lis))"
   ]
  },
  {
   "cell_type": "code",
   "execution_count": 37,
   "id": "9c8db3ce-3e2b-45be-b0c7-e4c90cab5b7e",
   "metadata": {},
   "outputs": [
    {
     "data": {
      "text/plain": [
       "[1, 3, 5, 6, 2]"
      ]
     },
     "execution_count": 37,
     "metadata": {},
     "output_type": "execute_result"
    }
   ],
   "source": [
    "lis"
   ]
  },
  {
   "cell_type": "code",
   "execution_count": 2,
   "id": "af273d1f",
   "metadata": {
    "id": "af273d1f",
    "outputId": "c5aec0ea-34d3-410b-d939-c8f982236aec"
   },
   "outputs": [
    {
     "name": "stdout",
     "output_type": "stream",
     "text": [
      "6\n"
     ]
    }
   ],
   "source": [
    "# using reduce to compute maximum element from list\n",
    "print(\"The maximum element of the list is : \", end=\"\")\n",
    "print(functools.reduce(lambda a, b: a if a > b else b, lis))"
   ]
  },
  {
   "cell_type": "code",
   "execution_count": 34,
   "id": "881eb981-0605-4b33-b9dc-61984016fbd7",
   "metadata": {},
   "outputs": [],
   "source": [
    "l2 = [1,2,3,4,5,6]"
   ]
  },
  {
   "cell_type": "code",
   "execution_count": 36,
   "id": "f71651d6-2e99-4a15-9c36-8b402629cff8",
   "metadata": {},
   "outputs": [
    {
     "data": {
      "text/plain": [
       "6"
      ]
     },
     "execution_count": 36,
     "metadata": {},
     "output_type": "execute_result"
    }
   ],
   "source": [
    "max(l2)"
   ]
  },
  {
   "cell_type": "code",
   "execution_count": null,
   "id": "98ccb675-7230-4c45-8eb7-fa0a8aa07a1a",
   "metadata": {},
   "outputs": [],
   "source": []
  }
 ],
 "metadata": {
  "colab": {
   "provenance": []
  },
  "kernelspec": {
   "display_name": "Python 3 (ipykernel)",
   "language": "python",
   "name": "python3"
  },
  "language_info": {
   "codemirror_mode": {
    "name": "ipython",
    "version": 3
   },
   "file_extension": ".py",
   "mimetype": "text/x-python",
   "name": "python",
   "nbconvert_exporter": "python",
   "pygments_lexer": "ipython3",
   "version": "3.13.3"
  }
 },
 "nbformat": 4,
 "nbformat_minor": 5
}
