{
 "cells": [
  {
   "cell_type": "code",
   "execution_count": 3,
   "id": "4a18ad34-97ca-400f-ab9b-e28a481db1bd",
   "metadata": {},
   "outputs": [
    {
     "data": {
      "text/plain": [
       "array([1.5, 4. , 3.5])"
      ]
     },
     "execution_count": 3,
     "metadata": {},
     "output_type": "execute_result"
    }
   ],
   "source": [
    "# 1 \n",
    "import numpy as np\n",
    "\n",
    "v1 = np.array([2,3,5])\n",
    "v2 = np.array([1,5,2])\n",
    "scalar = 0.5\n",
    "\n",
    "result = scalar * (v1 + v2)\n",
    "result"
   ]
  },
  {
   "cell_type": "code",
   "execution_count": 4,
   "id": "74da08f0-0232-49dd-bbf4-2cb57bcc116d",
   "metadata": {},
   "outputs": [
    {
     "data": {
      "text/plain": [
       "array([1.7, 3.2, 5. ])"
      ]
     },
     "execution_count": 4,
     "metadata": {},
     "output_type": "execute_result"
    }
   ],
   "source": [
    "# 2 : Matrix-Vector Multiplication (Prediction)\n",
    "X = np.array([[1,2,4],[4,5,6],[7,8,9]])\n",
    "w = np.array([0.1, 0.2, 0.3])\n",
    "\n",
    "prediction = X.dot(w)\n",
    "prediction"
   ]
  },
  {
   "cell_type": "code",
   "execution_count": 6,
   "id": "c86e1683-46fc-44d6-8ce7-533a3b9e4fa2",
   "metadata": {},
   "outputs": [
    {
     "name": "stdout",
     "output_type": "stream",
     "text": [
      "True\n"
     ]
    }
   ],
   "source": [
    "# Transpose and Dot Product Symmetry\n",
    "a = np.array([1,2,3])\n",
    "b = np.array([4,5,6])\n",
    "\n",
    "dot1 = np.dot(a.T, b)\n",
    "dot2 = np.dot(b.T, a)\n",
    "print(dot1 == dot2)"
   ]
  },
  {
   "cell_type": "code",
   "execution_count": 7,
   "id": "53d528e8-b67b-43ce-a368-836bb1ad2791",
   "metadata": {},
   "outputs": [
    {
     "name": "stdout",
     "output_type": "stream",
     "text": [
      "[[ 2  4]\n",
      " [ 6  8]\n",
      " [10 12]]\n"
     ]
    }
   ],
   "source": [
    "#  Matrix Multiplication (Transforming Data)\n",
    "data = np.array([[1, 2],\n",
    "                 [3, 4],\n",
    "                 [5, 6]])\n",
    "transform = np.array([[2, 0],\n",
    "                      [0, 2]])\n",
    "transformed = data @ transform\n",
    "print(transformed)"
   ]
  },
  {
   "cell_type": "code",
   "execution_count": 8,
   "id": "e8d4d3e2-42f7-47b8-b318-f30a11248332",
   "metadata": {},
   "outputs": [
    {
     "data": {
      "text/plain": [
       "(array([3., 1.]),\n",
       " array([[ 0.70710678, -0.70710678],\n",
       "        [ 0.70710678,  0.70710678]]))"
      ]
     },
     "execution_count": 8,
     "metadata": {},
     "output_type": "execute_result"
    }
   ],
   "source": [
    "# Compute Eigenvalues and Eigenvectors\n",
    "A = np.array([[2, 1],\n",
    "              [1, 2]])\n",
    "eigenvalues, eigenvectors =np.linalg.eig(A)\n",
    "eigenvalues, eigenvectors"
   ]
  },
  {
   "cell_type": "code",
   "execution_count": 9,
   "id": "9f9f89ee-c485-46eb-b476-de3f434d0300",
   "metadata": {},
   "outputs": [
    {
     "name": "stdout",
     "output_type": "stream",
     "text": [
      "Angle between vectors: 16.260204708311967\n"
     ]
    }
   ],
   "source": [
    "# Vector Directions & Angles\n",
    "import numpy as np\n",
    "from numpy.linalg import norm\n",
    "from math import acos, degrees\n",
    "\n",
    "\n",
    "\n",
    "v1 = np.array([3, 4])\n",
    "v2 = np.array([4, 3])\n",
    "\n",
    "cos_theta = np.dot(v1, v2) / (norm(v1) * norm(v2))\n",
    "angle = degrees(acos(cos_theta))\n",
    "print(\"Angle between vectors:\", angle)"
   ]
  },
  {
   "cell_type": "code",
   "execution_count": 10,
   "id": "3d09f5f3-1c35-4376-9641-69f2a67c8f43",
   "metadata": {},
   "outputs": [
    {
     "data": {
      "image/png": "[encoded data removed]",
      "text/plain": [
       "<Figure size 640x480 with 1 Axes>"
      ]
     },
     "metadata": {},
     "output_type": "display_data"
    }
   ],
   "source": [
    "import matplotlib.pyplot as plt\n",
    "\n",
    "v1 = np.array([1, 0])\n",
    "v2 = np.array([0, 1])\n",
    "\n",
    "points = []\n",
    "for a in range(-5, 6):\n",
    "    for b in range(-5, 6):\n",
    "        points.append(a*v1 + b*v2)\n",
    "\n",
    "points = np.array(points)\n",
    "plt.scatter(points[:,0], points[:,1])\n",
    "plt.axhline(0, color='gray'); plt.axvline(0, color='gray')\n",
    "plt.show()\n"
   ]
  },
  {
   "cell_type": "code",
   "execution_count": 11,
   "id": "3880b3a3-6ea7-4b7a-b548-1b151c34723f",
   "metadata": {},
   "outputs": [
    {
     "data": {
      "image/png": "[encoded data removed]",
      "text/plain": [
       "<Figure size 640x480 with 1 Axes>"
      ]
     },
     "metadata": {},
     "output_type": "display_data"
    }
   ],
   "source": [
    "A = np.array([[2, 0],\n",
    "              [0, 1]])\n",
    "points = np.array([[1, 1], [2, 2], [3, 3], [1, -1]])\n",
    "transformed = points @ A.T\n",
    "plt.quiver(*points.T, *transformed.T, angles='xy', scale_units='xy', scale=1, color='red')\n",
    "plt.grid(); plt.axis('equal'); plt.show()"
   ]
  },
  {
   "cell_type": "code",
   "execution_count": 16,
   "id": "8369e696-7ff0-42a0-b71f-9d36575fa0c9",
   "metadata": {},
   "outputs": [
    {
     "name": "stdout",
     "output_type": "stream",
     "text": [
      "A * I:\n",
      " [[2. 1.]\n",
      " [1. 2.]]\n",
      "A * A_inv:\n",
      " [[1. 0.]\n",
      " [0. 1.]]\n"
     ]
    }
   ],
   "source": [
    "A = np.array([[2, 1], [1, 2]])\n",
    "I = np.eye(2)\n",
    "A_inv = np.linalg.inv(A)\n",
    "\n",
    "\n",
    "print(\"A * I:\\n\", A @ I)\n",
    "print(\"A * A_inv:\\n\", A @ A_inv)"
   ]
  },
  {
   "cell_type": "code",
   "execution_count": 17,
   "id": "b1465633-ff7f-4a81-8b3d-824c90832e58",
   "metadata": {},
   "outputs": [
    {
     "data": {
      "text/plain": [
       "np.float64(0.18242552380635632)"
      ]
     },
     "execution_count": 17,
     "metadata": {},
     "output_type": "execute_result"
    }
   ],
   "source": [
    "x = np.array([0.5, 1.0, -1.5])\n",
    "w= np.array([0.2,-0.4, 0.8])\n",
    "z = np.dot(x,w)\n",
    "output = 1/(1 + np.exp(-z))\n",
    "output"
   ]
  },
  {
   "cell_type": "code",
   "execution_count": 18,
   "id": "0e87ed03-cc45-4e80-873f-f4a9412bcf42",
   "metadata": {},
   "outputs": [
    {
     "name": "stdout",
     "output_type": "stream",
     "text": [
      "Gradient: [4 6]\n"
     ]
    }
   ],
   "source": [
    "def grad(x, y):\n",
    "    return np.array([2*x, 2*y])\n",
    "\n",
    "point = np.array([2, 3])\n",
    "print(\"Gradient:\", grad(*point))\n"
   ]
  },
  {
   "cell_type": "code",
   "execution_count": 20,
   "id": "1727c0f9-8c5e-48c0-8c5f-3419ef84dc61",
   "metadata": {},
   "outputs": [
    {
     "name": "stdout",
     "output_type": "stream",
     "text": [
      "Rank: 2\n"
     ]
    }
   ],
   "source": [
    "X = np.array([[1, 2, 3],\n",
    "              [28, 4, 6],\n",
    "              [3, 6, 9]])\n",
    "rank = np.linalg.matrix_rank(X)\n",
    "print(\"Rank:\", rank)\n"
   ]
  },
  {
   "cell_type": "code",
   "execution_count": 21,
   "id": "5f48575c-955c-4661-af08-e39ecf6948db",
   "metadata": {},
   "outputs": [
    {
     "name": "stdout",
     "output_type": "stream",
     "text": [
      "Covariance Matrix:\n",
      " [[4. 6.]\n",
      " [6. 9.]]\n"
     ]
    }
   ],
   "source": [
    "X = np.array([[2, 3], [4, 6], [6, 9]])\n",
    "X_centered = X - X.mean(axis=0)\n",
    "cov = (X_centered.T @ X_centered) / (X.shape[0] - 1)\n",
    "print(\"Covariance Matrix:\\n\", cov)\n"
   ]
  },
  {
   "cell_type": "code",
   "execution_count": 22,
   "id": "f3eb9918-3440-4d0c-8403-5dddaa3e6806",
   "metadata": {},
   "outputs": [
    {
     "name": "stdout",
     "output_type": "stream",
     "text": [
      "Principal direction: [-0.83205029  0.5547002 ]\n"
     ]
    }
   ],
   "source": [
    "eigenvals, eigenvecs = np.linalg.eig(cov)\n",
    "print(\"Principal direction:\", eigenvecs[:, 0])\n"
   ]
  },
  {
   "cell_type": "code",
   "execution_count": 1,
   "id": "52429742-0590-4f93-adb3-7f3d6746f665",
   "metadata": {},
   "outputs": [
    {
     "data": {
      "image/png": "[encoded data removed]",
      "text/plain": [
       "<Figure size 600x600 with 1 Axes>"
      ]
     },
     "metadata": {},
     "output_type": "display_data"
    }
   ],
   "source": [
    "import numpy as np\n",
    "import matplotlib.pyplot as plt\n",
    "\n",
    "a = np.array([1, 0])\n",
    "angles = np.deg2rad([0, 30, 60, 90, 120, 150, 180])  # in radians\n",
    "length = 1\n",
    "\n",
    "plt.figure(figsize=(6,6))\n",
    "plt.axhline(0, color='gray', lw=1)\n",
    "plt.axvline(0, color='gray', lw=1)\n",
    "\n",
    "for angle in angles:\n",
    "    b = length * np.array([np.cos(angle), np.sin(angle)])\n",
    "    dot = np.dot(a, b)\n",
    "    cos_sim = dot / (np.linalg.norm(a) * np.linalg.norm(b))\n",
    "\n",
    "    plt.quiver(0, 0, b[0], b[1], angles='xy', scale_units='xy', scale=1, label=f\"{np.rad2deg(angle):.0f}°: cos={cos_sim:.2f}\")\n",
    "\n",
    "plt.quiver(0, 0, a[0], a[1], angles='xy', scale_units='xy', scale=1, color='red', label='Vector a')\n",
    "plt.xlim(-1.5, 1.5)\n",
    "plt.ylim(-1.5, 1.5)\n",
    "plt.gca().set_aspect('equal')\n",
    "plt.legend()\n",
    "plt.title(\"Same Length, Different Angles\")\n",
    "plt.grid(True)\n",
    "plt.show()\n"
   ]
  },
  {
   "cell_type": "code",
   "execution_count": null,
   "id": "acb61c0f-5931-4f23-812c-596cd5923b14",
   "metadata": {},
   "outputs": [],
   "source": []
  }
 ],
 "metadata": {
  "kernelspec": {
   "display_name": "Python 3 (ipykernel)",
   "language": "python",
   "name": "python3"
  },
  "language_info": {
   "codemirror_mode": {
    "name": "ipython",
    "version": 3
   },
   "file_extension": ".py",
   "mimetype": "text/x-python",
   "name": "python",
   "nbconvert_exporter": "python",
   "pygments_lexer": "ipython3",
   "version": "3.13.3"
  }
 },
 "nbformat": 4,
 "nbformat_minor": 5
}
