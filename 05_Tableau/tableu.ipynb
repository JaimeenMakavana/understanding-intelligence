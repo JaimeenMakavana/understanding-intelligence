{
 "cells": [
  {
   "cell_type": "raw",
   "id": "f12f6fff-ed44-4621-b63c-88a919403033",
   "metadata": {},
   "source": [
    "tableau\n",
    "KPI - key performance indicator\n",
    "map -> chart\n",
    "it is a business intelligence tool for visually analysing the data\n",
    "elt: extract, load and transfer\n",
    "DAX query : data analytics expression\n"
   ]
  },
  {
   "cell_type": "raw",
   "id": "25501cf6-5159-4ada-978a-a48588e247be",
   "metadata": {},
   "source": [
    "kpi for hr exployee attrition"
   ]
  },
  {
   "cell_type": "raw",
   "id": "7a48b167-8581-4313-8722-1c121d8ee330",
   "metadata": {},
   "source": [
    "1. total employee\n",
    "2. total attrition\n",
    "3. attrition rate = t.attrition *100/toal emp\n",
    "4. age -> age group\n",
    "5. active employee"
   ]
  },
  {
   "cell_type": "code",
   "execution_count": null,
   "id": "705d8a24-f779-4111-89e6-cb33e1969fd8",
   "metadata": {},
   "outputs": [],
   "source": [
    "job satisfaction gender wise"
   ]
  }
 ],
 "metadata": {
  "kernelspec": {
   "display_name": "Python 3 (ipykernel)",
   "language": "python",
   "name": "python3"
  },
  "language_info": {
   "codemirror_mode": {
    "name": "ipython",
    "version": 3
   },
   "file_extension": ".py",
   "mimetype": "text/x-python",
   "name": "python",
   "nbconvert_exporter": "python",
   "pygments_lexer": "ipython3",
   "version": "3.13.3"
  }
 },
 "nbformat": 4,
 "nbformat_minor": 5
}
