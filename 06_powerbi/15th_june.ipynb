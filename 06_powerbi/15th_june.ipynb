{
 "cells": [
  {
   "cell_type": "code",
   "execution_count": 1,
   "id": "8a611e10-74fa-457e-a8dd-8e4f361bd254",
   "metadata": {},
   "outputs": [
    {
     "name": "stdout",
     "output_type": "stream",
     "text": [
      "List size : 88\n",
      "Tuple size: 64\n"
     ]
    }
   ],
   "source": [
    "import sys\n",
    "\n",
    "a_list = [1, 2, 3]\n",
    "a_tuple = (1, 2, 3)\n",
    "\n",
    "print(\"List size :\", sys.getsizeof(a_list))   # e.g., 88\n",
    "print(\"Tuple size:\", sys.getsizeof(a_tuple))  # e.g., 72\n"
   ]
  },
  {
   "cell_type": "code",
   "execution_count": 2,
   "id": "111aefc9-7d7b-4c30-adec-f28379a180ba",
   "metadata": {},
   "outputs": [
    {
     "name": "stdout",
     "output_type": "stream",
     "text": [
      "[10, 2, 3, 4]\n"
     ]
    }
   ],
   "source": [
    "a = [1,2,3]\n",
    "a[0] = 10\n",
    "a.append(4)\n",
    "print(a)"
   ]
  },
  {
   "cell_type": "code",
   "execution_count": 3,
   "id": "135d46f3-7256-46ee-9e8e-d97b02492b76",
   "metadata": {},
   "outputs": [],
   "source": [
    "b = (1,2,3)"
   ]
  },
  {
   "cell_type": "code",
   "execution_count": 6,
   "id": "5a4bbd43-ebfd-426b-8aa0-db80b6b1d2f2",
   "metadata": {},
   "outputs": [
    {
     "ename": "AttributeError",
     "evalue": "'tuple' object has no attribute 'append'",
     "output_type": "error",
     "traceback": [
      "\u001b[31m---------------------------------------------------------------------------\u001b[39m",
      "\u001b[31mAttributeError\u001b[39m                            Traceback (most recent call last)",
      "\u001b[36mCell\u001b[39m\u001b[36m \u001b[39m\u001b[32mIn[6]\u001b[39m\u001b[32m, line 2\u001b[39m\n\u001b[32m      1\u001b[39m t = (\u001b[32m1\u001b[39m, [\u001b[32m2\u001b[39m, \u001b[32m3\u001b[39m])\n\u001b[32m----> \u001b[39m\u001b[32m2\u001b[39m \u001b[43mt\u001b[49m\u001b[43m.\u001b[49m\u001b[43mappend\u001b[49m(\u001b[32m4\u001b[39m)\n\u001b[32m      3\u001b[39m \u001b[38;5;28mprint\u001b[39m(t)  \u001b[38;5;66;03m# (1, [2, 3, 4]) ← internal list changed\u001b[39;00m\n",
      "\u001b[31mAttributeError\u001b[39m: 'tuple' object has no attribute 'append'"
     ]
    }
   ],
   "source": [
    "t = (1, [2, 3])\n",
    "t.append(4)\n",
    "print(t)  # (1, [2, 3, 4]) ← internal list changed\n"
   ]
  },
  {
   "cell_type": "code",
   "execution_count": 7,
   "id": "d266b653-964b-4eb3-adad-64f88b2f21d6",
   "metadata": {},
   "outputs": [
    {
     "name": "stdout",
     "output_type": "stream",
     "text": [
      "104\n",
      "80\n"
     ]
    }
   ],
   "source": [
    "import sys \n",
    "l = [1, 2, 3, 4, 5]\n",
    "t = (1, 2, 3, 4, 5)\n",
    "print(sys.getsizeof(l))\n",
    "print(sys.getsizeof(t))"
   ]
  },
  {
   "cell_type": "code",
   "execution_count": 8,
   "id": "83ef42ab-5eda-40a9-a448-950c41a1ef72",
   "metadata": {},
   "outputs": [
    {
     "name": "stdout",
     "output_type": "stream",
     "text": [
      "0.05681049998383969\n",
      "0.008014400023967028\n"
     ]
    }
   ],
   "source": [
    "import timeit\n",
    "\n",
    "print(timeit.timeit(\"[1,2,3]\", number=1_000_000))\n",
    "print(timeit.timeit(\"(1,2,3)\", number=1_000_000))"
   ]
  },
  {
   "cell_type": "code",
   "execution_count": 10,
   "id": "0f6bfe47-06e6-493e-acb8-9f7e222fa4e7",
   "metadata": {},
   "outputs": [],
   "source": [
    "t = (1, 2, 3)\n",
    "d = {t: \"this works\"}  # ✅\n",
    "\n",
    "l = [1, 2, 3]"
   ]
  },
  {
   "cell_type": "code",
   "execution_count": 12,
   "id": "e8dab37e-9ebb-4b7b-8dc3-433b40329891",
   "metadata": {},
   "outputs": [
    {
     "name": "stdout",
     "output_type": "stream",
     "text": [
      "{(1, 2): 2, (2, 3): 1, (3, 4): 1}\n"
     ]
    }
   ],
   "source": [
    "coords = [(1, 2), (2, 3), (1, 2), (3, 4)]\n",
    "result = {}\n",
    "for coord in coords:\n",
    "    result[coord]= result.get(coord,0)+1\n",
    "print(result)"
   ]
  },
  {
   "cell_type": "code",
   "execution_count": 13,
   "id": "fc71f285-c8e0-4f82-bce6-3731f1ce91a5",
   "metadata": {},
   "outputs": [
    {
     "name": "stdout",
     "output_type": "stream",
     "text": [
      "6823191166214586900\n"
     ]
    }
   ],
   "source": [
    "hashable_object = \"hello\"\n",
    "print(hash(hashable_object))  # ✅ Returns a fixed integer hash\n"
   ]
  },
  {
   "cell_type": "code",
   "execution_count": 14,
   "id": "7b2fd231-c084-4df5-b1c3-e4109f7926c3",
   "metadata": {},
   "outputs": [
    {
     "data": {
      "text/plain": [
       "(1, 2, 4, 5)"
      ]
     },
     "execution_count": 14,
     "metadata": {},
     "output_type": "execute_result"
    }
   ],
   "source": [
    "mytup =(1,2,3)\n",
    "mytup =(1,2,4,5)\n",
    "mytup"
   ]
  },
  {
   "cell_type": "markdown",
   "id": "29511712-ac97-43ab-84de-f1ae313cb8fc",
   "metadata": {},
   "source": [
    "# dict "
   ]
  },
  {
   "cell_type": "code",
   "execution_count": 15,
   "id": "b541344c-ae94-4dfb-9fb9-b6c13f13de7a",
   "metadata": {},
   "outputs": [],
   "source": [
    "d = {'a':1 , 'b':2}\n",
    "d2 = dict(a=1, b=2)"
   ]
  },
  {
   "cell_type": "code",
   "execution_count": 18,
   "id": "ff93a8a5-be83-4603-a7d3-eca55dbef036",
   "metadata": {},
   "outputs": [],
   "source": [
    "d3 = dict([('a',1),('b',2)])\n",
    "d4 ={k: v for k,v in [('a',1),('b',2)] }\n",
    "keys = ['a', 'b', 'c']\n",
    "values = [1, 2, 3]\n",
    "d5 = dict(zip(keys, values))"
   ]
  },
  {
   "cell_type": "code",
   "execution_count": 19,
   "id": "ed84d485-d8bc-4d8d-b686-0b93561bf998",
   "metadata": {},
   "outputs": [],
   "source": [
    "d6 =  dict.fromkeys(['a','b','c'],0)"
   ]
  },
  {
   "cell_type": "code",
   "execution_count": null,
   "id": "6ed5bb41-8ede-4fd1-8ae4-fa99a4304d47",
   "metadata": {},
   "outputs": [],
   "source": []
  }
 ],
 "metadata": {
  "kernelspec": {
   "display_name": "Python 3 (ipykernel)",
   "language": "python",
   "name": "python3"
  },
  "language_info": {
   "codemirror_mode": {
    "name": "ipython",
    "version": 3
   },
   "file_extension": ".py",
   "mimetype": "text/x-python",
   "name": "python",
   "nbconvert_exporter": "python",
   "pygments_lexer": "ipython3",
   "version": "3.13.3"
  }
 },
 "nbformat": 4,
 "nbformat_minor": 5
}
