{
 "cells": [
  {
   "cell_type": "code",
   "execution_count": 18,
   "id": "35a69292-a737-4550-a853-66f1625e9fd1",
   "metadata": {},
   "outputs": [
    {
     "name": "stdout",
     "output_type": "stream",
     "text": [
      "[1, 2, 3, 23]\n",
      "[1, 2, 3, 23, 0, 0]\n"
     ]
    }
   ],
   "source": [
    "def move_zeros(nums):\n",
    "    result = [n for n in nums if n != 0] \n",
    "    print(result)\n",
    "    return result + [0] * (len(nums) - len(result)) \n",
    "print(move_zeros([1,2,3,0,0,23])) \n"
   ]
  },
  {
   "cell_type": "code",
   "execution_count": 19,
   "id": "fe66286a-b897-4539-98a1-6fd2b1cdd740",
   "metadata": {},
   "outputs": [],
   "source": [
    "import keyboard"
   ]
  },
  {
   "cell_type": "code",
   "execution_count": 20,
   "id": "bc7fdf5d-6224-4ec0-a65a-53aae026dfc3",
   "metadata": {},
   "outputs": [],
   "source": [
    "import keyword"
   ]
  },
  {
   "cell_type": "code",
   "execution_count": 21,
   "id": "391faa0f-05d0-4f00-9194-3a83837fad3c",
   "metadata": {},
   "outputs": [
    {
     "name": "stdout",
     "output_type": "stream",
     "text": [
      "['False', 'None', 'True', 'and', 'as', 'assert', 'async', 'await', 'break', 'class', 'continue', 'def', 'del', 'elif', 'else', 'except', 'finally', 'for', 'from', 'global', 'if', 'import', 'in', 'is', 'lambda', 'nonlocal', 'not', 'or', 'pass', 'raise', 'return', 'try', 'while', 'with', 'yield']\n"
     ]
    }
   ],
   "source": [
    "print(keyword.kwlist)"
   ]
  },
  {
   "cell_type": "markdown",
   "id": "41f16779-3445-4c48-a45f-476a7f4ee65e",
   "metadata": {},
   "source": [
    "def transpose(matrix):\n",
    "    return [[row[i] for row in matrix] for i in range(len(matrix[0]))]"
   ]
  },
  {
   "cell_type": "code",
   "execution_count": 22,
   "id": "d9d96720-d361-4fe9-8a65-12c670b5010c",
   "metadata": {},
   "outputs": [
    {
     "ename": "SyntaxError",
     "evalue": "incomplete input (937769851.py, line 1)",
     "output_type": "error",
     "traceback": [
      "\u001b[1;36m  Cell \u001b[1;32mIn[22], line 1\u001b[1;36m\u001b[0m\n\u001b[1;33m    def transpose(matrix):\u001b[0m\n\u001b[1;37m                          ^\u001b[0m\n\u001b[1;31mSyntaxError\u001b[0m\u001b[1;31m:\u001b[0m incomplete input\n"
     ]
    }
   ],
   "source": [
    "def transpose(matrix):"
   ]
  },
  {
   "cell_type": "code",
   "execution_count": 23,
   "id": "82affcd9-f101-4860-9f33-68afc5c293ec",
   "metadata": {},
   "outputs": [],
   "source": [
    "def transpose(matrix):\n",
    "    return [[row[i] for row in matrix] for i in range(len(matrix[0]))]"
   ]
  },
  {
   "cell_type": "code",
   "execution_count": 24,
   "id": "b890ea17-d1c1-4287-b36b-129d3866cf5a",
   "metadata": {},
   "outputs": [
    {
     "name": "stdout",
     "output_type": "stream",
     "text": [
      "[[2, 2], [3, 4], [4, 6]]\n"
     ]
    }
   ],
   "source": [
    "print(transpose([[2,3,4],[2,4,6]]))"
   ]
  },
  {
   "cell_type": "markdown",
   "id": "300caf4c-f8e3-4244-bfa6-13a912257658",
   "metadata": {},
   "source": [
    "def sort_dict_by_value(d, reverse=False):\n",
    "    return dict(sorted(d.items(), key=lambda item: item[1], reverse=reverse))"
   ]
  },
  {
   "cell_type": "code",
   "execution_count": 25,
   "id": "cdbb1e64-ac4a-442c-8a60-7c7c065d9aee",
   "metadata": {},
   "outputs": [],
   "source": [
    "def sort_dict_by_value(d, reverse=False):\n",
    "    return dic(sorted(d.items(), key=lambda item:item[1], reverse= reverse))"
   ]
  },
  {
   "cell_type": "code",
   "execution_count": 26,
   "id": "504a33b0-3b8a-4e35-8304-e8e9b2a4e9ce",
   "metadata": {},
   "outputs": [
    {
     "data": {
      "text/plain": [
       "'helllo world\\nsdjsjdf\\nsdfsd\\n'"
      ]
     },
     "execution_count": 26,
     "metadata": {},
     "output_type": "execute_result"
    }
   ],
   "source": [
    "'''helllo world\n",
    "sdjsjdf\n",
    "sdfsd\n",
    "'''"
   ]
  },
  {
   "cell_type": "markdown",
   "id": "fd23a1b4-3315-4ae0-82e1-43de7519a95a",
   "metadata": {},
   "source": [
    "# string slicing"
   ]
  },
  {
   "cell_type": "code",
   "execution_count": 7,
   "id": "2ddf98bf-2909-444d-8b77-ff027da8f310",
   "metadata": {},
   "outputs": [
    {
     "data": {
      "text/plain": [
       "'pto'"
      ]
     },
     "execution_count": 7,
     "metadata": {},
     "output_type": "execute_result"
    }
   ],
   "source": [
    "str = 'hello python'\n",
    "str[-6:-1:2]"
   ]
  },
  {
   "cell_type": "code",
   "execution_count": 2,
   "id": "ddb3b2d9-c784-4f9f-9de3-fd5a726695c0",
   "metadata": {},
   "outputs": [
    {
     "data": {
      "text/plain": [
       "''"
      ]
     },
     "execution_count": 2,
     "metadata": {},
     "output_type": "execute_result"
    }
   ],
   "source": [
    "str[-6:-8]"
   ]
  },
  {
   "cell_type": "code",
   "execution_count": 4,
   "id": "8398b3e5-f671-4a40-be60-4ce5e4a5bf95",
   "metadata": {},
   "outputs": [
    {
     "data": {
      "text/plain": [
       "'aim'"
      ]
     },
     "execution_count": 4,
     "metadata": {},
     "output_type": "execute_result"
    }
   ],
   "source": [
    "str[-6:-3]"
   ]
  },
  {
   "cell_type": "code",
   "execution_count": 5,
   "id": "fd309749-38c4-46ae-a08d-46016f154c15",
   "metadata": {},
   "outputs": [
    {
     "data": {
      "text/plain": [
       "'o jaime'"
      ]
     },
     "execution_count": 5,
     "metadata": {},
     "output_type": "execute_result"
    }
   ],
   "source": [
    "str[-9:-2]"
   ]
  },
  {
   "cell_type": "code",
   "execution_count": 6,
   "id": "b76abdd1-a923-45fa-9b21-7713f0f8a907",
   "metadata": {},
   "outputs": [
    {
     "data": {
      "text/plain": [
       "'am'"
      ]
     },
     "execution_count": 6,
     "metadata": {},
     "output_type": "execute_result"
    }
   ],
   "source": [
    "str[-6:-2:2]"
   ]
  },
  {
   "cell_type": "code",
   "execution_count": 8,
   "id": "9ced66c6-6439-44be-a10a-24eaf3cffef1",
   "metadata": {},
   "outputs": [
    {
     "data": {
      "text/plain": [
       "'pto'"
      ]
     },
     "execution_count": 8,
     "metadata": {},
     "output_type": "execute_result"
    }
   ],
   "source": [
    "str[-6:-1:2]"
   ]
  },
  {
   "cell_type": "code",
   "execution_count": 9,
   "id": "21fc255a-48a2-4d93-8f71-e47e9386ec95",
   "metadata": {},
   "outputs": [
    {
     "data": {
      "text/plain": [
       "'nohtyp olleh'"
      ]
     },
     "execution_count": 9,
     "metadata": {},
     "output_type": "execute_result"
    }
   ],
   "source": [
    "str[::-1]"
   ]
  },
  {
   "cell_type": "code",
   "execution_count": 10,
   "id": "74f4d952-e0ab-45c6-a33e-0dc5245afb9d",
   "metadata": {},
   "outputs": [
    {
     "data": {
      "text/plain": [
       "'hello python'"
      ]
     },
     "execution_count": 10,
     "metadata": {},
     "output_type": "execute_result"
    }
   ],
   "source": [
    "str[::]"
   ]
  },
  {
   "cell_type": "code",
   "execution_count": 11,
   "id": "14e1a5a8-406c-4b62-861e-b62c2ba62d5d",
   "metadata": {},
   "outputs": [
    {
     "data": {
      "text/plain": [
       "'hello python'"
      ]
     },
     "execution_count": 11,
     "metadata": {},
     "output_type": "execute_result"
    }
   ],
   "source": [
    "str"
   ]
  },
  {
   "cell_type": "code",
   "execution_count": 12,
   "id": "c261b067-16a3-4cdb-9c12-18d1c7abf1c9",
   "metadata": {},
   "outputs": [
    {
     "data": {
      "text/plain": [
       "'hello python'"
      ]
     },
     "execution_count": 12,
     "metadata": {},
     "output_type": "execute_result"
    }
   ],
   "source": [
    "str[::]"
   ]
  },
  {
   "cell_type": "markdown",
   "id": "627b8f92-de76-4a3d-9aab-702c45fdded9",
   "metadata": {},
   "source": [
    "string and tupple is immutable"
   ]
  },
  {
   "cell_type": "code",
   "execution_count": 15,
   "id": "5ae23df6-7dea-4be8-bb86-a1840c95f2a9",
   "metadata": {},
   "outputs": [
    {
     "data": {
      "text/plain": [
       "'python'"
      ]
     },
     "execution_count": 15,
     "metadata": {},
     "output_type": "execute_result"
    }
   ],
   "source": [
    "str[-6:][::-1][::-1]"
   ]
  },
  {
   "cell_type": "code",
   "execution_count": 20,
   "id": "72ba8c5a-aefc-4daa-a841-ae3dba213d79",
   "metadata": {},
   "outputs": [
    {
     "ename": "NameError",
     "evalue": "name 'str' is not defined",
     "output_type": "error",
     "traceback": [
      "\u001b[31m---------------------------------------------------------------------------\u001b[39m",
      "\u001b[31mNameError\u001b[39m                                 Traceback (most recent call last)",
      "\u001b[36mCell\u001b[39m\u001b[36m \u001b[39m\u001b[32mIn[20]\u001b[39m\u001b[32m, line 1\u001b[39m\n\u001b[32m----> \u001b[39m\u001b[32m1\u001b[39m \u001b[38;5;28;01mdel\u001b[39;00m \u001b[38;5;28;43mstr\u001b[39;49m\n",
      "\u001b[31mNameError\u001b[39m: name 'str' is not defined"
     ]
    }
   ],
   "source": [
    "del str"
   ]
  },
  {
   "cell_type": "code",
   "execution_count": 21,
   "id": "7998f72f-7feb-497f-8436-b473ae6de538",
   "metadata": {},
   "outputs": [
    {
     "data": {
      "text/plain": [
       "str"
      ]
     },
     "execution_count": 21,
     "metadata": {},
     "output_type": "execute_result"
    }
   ],
   "source": [
    "str"
   ]
  },
  {
   "cell_type": "code",
   "execution_count": 22,
   "id": "75005d92-9b5b-481a-90eb-8455512eb4b3",
   "metadata": {},
   "outputs": [],
   "source": [
    "str = 'hello python'"
   ]
  },
  {
   "cell_type": "code",
   "execution_count": 23,
   "id": "da459bc2-3fe8-4ce3-836f-ca8b792304e8",
   "metadata": {},
   "outputs": [
    {
     "data": {
      "text/plain": [
       "'hello python'"
      ]
     },
     "execution_count": 23,
     "metadata": {},
     "output_type": "execute_result"
    }
   ],
   "source": [
    "str"
   ]
  },
  {
   "cell_type": "code",
   "execution_count": 25,
   "id": "7f40ee01-2229-405d-9aca-27d2259cb867",
   "metadata": {},
   "outputs": [
    {
     "data": {
      "text/plain": [
       "'hii python'"
      ]
     },
     "execution_count": 25,
     "metadata": {},
     "output_type": "execute_result"
    }
   ],
   "source": [
    "str.replace('hello','hii')"
   ]
  },
  {
   "cell_type": "code",
   "execution_count": 26,
   "id": "01948bda-b6b5-41f6-91f5-76d39adc1d03",
   "metadata": {},
   "outputs": [
    {
     "data": {
      "text/plain": [
       "'lo pyt'"
      ]
     },
     "execution_count": 26,
     "metadata": {},
     "output_type": "execute_result"
    }
   ],
   "source": [
    "str[-9:-3]"
   ]
  },
  {
   "cell_type": "code",
   "execution_count": 27,
   "id": "4f6203ad-3e9a-450d-8ccd-68bb610f291e",
   "metadata": {},
   "outputs": [
    {
     "data": {
      "text/plain": [
       "''"
      ]
     },
     "execution_count": 27,
     "metadata": {},
     "output_type": "execute_result"
    }
   ],
   "source": [
    "str[-2:-4]"
   ]
  },
  {
   "cell_type": "markdown",
   "id": "5620a91b-d1b2-4c52-b586-1826cbddaa80",
   "metadata": {},
   "source": [
    "## string concatenation"
   ]
  },
  {
   "cell_type": "code",
   "execution_count": 28,
   "id": "278b5142-9ee8-4b8e-8c4b-352864e018c2",
   "metadata": {},
   "outputs": [],
   "source": [
    "str1 = \"jaimeen\"\n",
    "str2 ='makavana'\n",
    "str3 = str1 + \" \"+ str2"
   ]
  },
  {
   "cell_type": "code",
   "execution_count": 29,
   "id": "e3564b9b-dd67-4cdc-8385-4d71d0b08c14",
   "metadata": {},
   "outputs": [
    {
     "data": {
      "text/plain": [
       "'jaimeen makavana'"
      ]
     },
     "execution_count": 29,
     "metadata": {},
     "output_type": "execute_result"
    }
   ],
   "source": [
    "str3"
   ]
  },
  {
   "cell_type": "code",
   "execution_count": 30,
   "id": "f1ae8921-d24d-4053-9d34-b6c63afedd3d",
   "metadata": {},
   "outputs": [
    {
     "ename": "TypeError",
     "evalue": "can only concatenate str (not \"int\") to str",
     "output_type": "error",
     "traceback": [
      "\u001b[31m---------------------------------------------------------------------------\u001b[39m",
      "\u001b[31mTypeError\u001b[39m                                 Traceback (most recent call last)",
      "\u001b[36mCell\u001b[39m\u001b[36m \u001b[39m\u001b[32mIn[30]\u001b[39m\u001b[32m, line 1\u001b[39m\n\u001b[32m----> \u001b[39m\u001b[32m1\u001b[39m \u001b[43mstr3\u001b[49m\u001b[43m \u001b[49m\u001b[43m+\u001b[49m\u001b[43m \u001b[49m\u001b[32;43m323\u001b[39;49m\n",
      "\u001b[31mTypeError\u001b[39m: can only concatenate str (not \"int\") to str"
     ]
    }
   ],
   "source": [
    "str3 + 323"
   ]
  },
  {
   "cell_type": "code",
   "execution_count": 31,
   "id": "a4a769d9-0d64-4472-a6c9-7dbe13cc1e46",
   "metadata": {},
   "outputs": [
    {
     "ename": "TypeError",
     "evalue": "unsupported operand type(s) for -: 'str' and 'str'",
     "output_type": "error",
     "traceback": [
      "\u001b[31m---------------------------------------------------------------------------\u001b[39m",
      "\u001b[31mTypeError\u001b[39m                                 Traceback (most recent call last)",
      "\u001b[36mCell\u001b[39m\u001b[36m \u001b[39m\u001b[32mIn[31]\u001b[39m\u001b[32m, line 1\u001b[39m\n\u001b[32m----> \u001b[39m\u001b[32m1\u001b[39m \u001b[43mstr2\u001b[49m\u001b[43m-\u001b[49m\u001b[43mstr1\u001b[49m\n",
      "\u001b[31mTypeError\u001b[39m: unsupported operand type(s) for -: 'str' and 'str'"
     ]
    }
   ],
   "source": [
    "str2-str1"
   ]
  },
  {
   "cell_type": "markdown",
   "id": "eb53ffbd-bd59-4187-a320-52b7a1663239",
   "metadata": {},
   "source": [
    "# string membership"
   ]
  },
  {
   "cell_type": "markdown",
   "id": "2e601948-03fb-40e1-82cf-ff2b6b036a08",
   "metadata": {},
   "source": [
    "if string is present or not\n",
    "membership operators [in, not in] used to check presence of absense of a value"
   ]
  },
  {
   "cell_type": "code",
   "execution_count": 32,
   "id": "746627be-94c6-446e-99f1-c818a22ff704",
   "metadata": {},
   "outputs": [
    {
     "data": {
      "text/plain": [
       "True"
      ]
     },
     "execution_count": 32,
     "metadata": {},
     "output_type": "execute_result"
    }
   ],
   "source": [
    "\"j\" in str1"
   ]
  },
  {
   "cell_type": "code",
   "execution_count": null,
   "id": "c3221a31-a988-42cf-8be9-0fb8a0c1ffa4",
   "metadata": {},
   "outputs": [],
   "source": []
  },
  {
   "cell_type": "code",
   "execution_count": 33,
   "id": "c57374b6-4d59-439a-9b76-71737e7cf043",
   "metadata": {},
   "outputs": [
    {
     "data": {
      "text/plain": [
       "False"
      ]
     },
     "execution_count": 33,
     "metadata": {},
     "output_type": "execute_result"
    }
   ],
   "source": [
    "'z' in str1"
   ]
  },
  {
   "cell_type": "code",
   "execution_count": 34,
   "id": "a127b9dc-9e47-49ec-9cd2-c9a7fd4cfca7",
   "metadata": {},
   "outputs": [
    {
     "data": {
      "text/plain": [
       "False"
      ]
     },
     "execution_count": 34,
     "metadata": {},
     "output_type": "execute_result"
    }
   ],
   "source": [
    "'J' in str1"
   ]
  },
  {
   "cell_type": "code",
   "execution_count": 35,
   "id": "22c29b39-f458-4da9-9d2c-88163fa6ade2",
   "metadata": {},
   "outputs": [
    {
     "data": {
      "text/plain": [
       "False"
      ]
     },
     "execution_count": 35,
     "metadata": {},
     "output_type": "execute_result"
    }
   ],
   "source": [
    "'j' not in str1"
   ]
  },
  {
   "cell_type": "code",
   "execution_count": 36,
   "id": "3ec2026c-b364-408c-b0b7-63b097bb7e48",
   "metadata": {},
   "outputs": [
    {
     "data": {
      "text/plain": [
       "True"
      ]
     },
     "execution_count": 36,
     "metadata": {},
     "output_type": "execute_result"
    }
   ],
   "source": [
    "'z' not in str1"
   ]
  },
  {
   "cell_type": "markdown",
   "id": "fac89523-f76d-40d6-afce-8c4ec07fce39",
   "metadata": {},
   "source": [
    "# string partitioning \n",
    "Partition the string into three parts using the given separator.\n",
    "return tupple"
   ]
  },
  {
   "cell_type": "code",
   "execution_count": 41,
   "id": "6a3ef2b6-6ed0-4c9f-8b5b-3c0af94fb1bf",
   "metadata": {},
   "outputs": [],
   "source": [
    "str_part = \"hello jaimeen makavana\""
   ]
  },
  {
   "cell_type": "code",
   "execution_count": 43,
   "id": "c29a9f25-fabb-4b6a-b5f3-639c2023f638",
   "metadata": {},
   "outputs": [
    {
     "data": {
      "text/plain": [
       "'hello'"
      ]
     },
     "execution_count": 43,
     "metadata": {},
     "output_type": "execute_result"
    }
   ],
   "source": [
    "str_part.partition(' ')[0]"
   ]
  },
  {
   "cell_type": "markdown",
   "id": "79378d4d-3bda-477a-8111-c6280c0ed270",
   "metadata": {},
   "source": [
    "# string function"
   ]
  },
  {
   "cell_type": "markdown",
   "id": "9374838a-42ef-4859-ae4d-f6256e943ba7",
   "metadata": {},
   "source": [
    "## 1. count"
   ]
  },
  {
   "cell_type": "code",
   "execution_count": 47,
   "id": "769d51aa-9c21-46e4-853e-7f6c8023ffd5",
   "metadata": {},
   "outputs": [],
   "source": [
    "str_1 = ' jaimeen makavana '"
   ]
  },
  {
   "cell_type": "code",
   "execution_count": 48,
   "id": "cda83388-d010-4342-81ee-00d4ce790dc7",
   "metadata": {},
   "outputs": [
    {
     "data": {
      "text/plain": [
       "5"
      ]
     },
     "execution_count": 48,
     "metadata": {},
     "output_type": "execute_result"
    }
   ],
   "source": [
    "str_1.count('a')"
   ]
  },
  {
   "cell_type": "markdown",
   "id": "5eede257-362d-43ac-8417-01f15bf4b1af",
   "metadata": {},
   "source": [
    "## 2. strip\n",
    "   -Return a copy of the string with leading and trailing whitespace removed."
   ]
  },
  {
   "cell_type": "code",
   "execution_count": 49,
   "id": "698d12dd-360e-4538-86d2-5a9ed7e80cb6",
   "metadata": {},
   "outputs": [
    {
     "data": {
      "text/plain": [
       "'jaimeen makavana'"
      ]
     },
     "execution_count": 49,
     "metadata": {},
     "output_type": "execute_result"
    }
   ],
   "source": [
    "str_1.strip()"
   ]
  },
  {
   "cell_type": "code",
   "execution_count": 50,
   "id": "b6778d28-b8aa-4aab-a132-75413c1cda12",
   "metadata": {},
   "outputs": [
    {
     "data": {
      "text/plain": [
       "' jaimeen makavana'"
      ]
     },
     "execution_count": 50,
     "metadata": {},
     "output_type": "execute_result"
    }
   ],
   "source": [
    "str_1.rstrip()"
   ]
  },
  {
   "cell_type": "code",
   "execution_count": 51,
   "id": "634b24ae-714e-4787-864d-0524dc72d97d",
   "metadata": {},
   "outputs": [
    {
     "data": {
      "text/plain": [
       "'jaimeen makavana '"
      ]
     },
     "execution_count": 51,
     "metadata": {},
     "output_type": "execute_result"
    }
   ],
   "source": [
    "str_1.lstrip()"
   ]
  },
  {
   "cell_type": "code",
   "execution_count": 52,
   "id": "a036ade7-eed1-4598-86fd-0c58b442131c",
   "metadata": {},
   "outputs": [],
   "source": [
    "str_2 = \"jaimeen@@@@\""
   ]
  },
  {
   "cell_type": "code",
   "execution_count": 53,
   "id": "4a704d15-c9d4-452e-925e-28e1189f13a4",
   "metadata": {},
   "outputs": [
    {
     "data": {
      "text/plain": [
       "'jaimeen'"
      ]
     },
     "execution_count": 53,
     "metadata": {},
     "output_type": "execute_result"
    }
   ],
   "source": [
    "str_2.rstrip(\"@\")"
   ]
  },
  {
   "cell_type": "markdown",
   "id": "102d641e-dab0-4ea6-b8d0-4d982ec9620e",
   "metadata": {},
   "source": [
    "## 3. lowercase"
   ]
  },
  {
   "cell_type": "code",
   "execution_count": 55,
   "id": "71a202d4-2ce4-4f8a-be1f-25f2d222d105",
   "metadata": {},
   "outputs": [],
   "source": [
    "str6 = \"JAIMEEN\""
   ]
  },
  {
   "cell_type": "code",
   "execution_count": 56,
   "id": "fe474624-3d49-41e5-8703-0321a929dd9b",
   "metadata": {},
   "outputs": [
    {
     "data": {
      "text/plain": [
       "'jaimeen'"
      ]
     },
     "execution_count": 56,
     "metadata": {},
     "output_type": "execute_result"
    }
   ],
   "source": [
    "str6.lower()"
   ]
  },
  {
   "cell_type": "code",
   "execution_count": 57,
   "id": "305b4f8b-b87f-4ed2-a7af-95b19a0c8695",
   "metadata": {},
   "outputs": [
    {
     "data": {
      "text/plain": [
       "'JAIMEEN'"
      ]
     },
     "execution_count": 57,
     "metadata": {},
     "output_type": "execute_result"
    }
   ],
   "source": [
    "str6.upper()"
   ]
  },
  {
   "cell_type": "markdown",
   "id": "0ffe93f2-2f13-49fe-bbec-8d1123f2b667",
   "metadata": {},
   "source": [
    "## 4. startwith and endwith"
   ]
  },
  {
   "cell_type": "code",
   "execution_count": 58,
   "id": "5db25aed-d5c0-475f-a0b9-b67ed3ed725b",
   "metadata": {},
   "outputs": [],
   "source": [
    "sw = \"jaimeen\""
   ]
  },
  {
   "cell_type": "code",
   "execution_count": 59,
   "id": "bd0ce20d-7601-4636-b160-d440a43cb612",
   "metadata": {},
   "outputs": [
    {
     "data": {
      "text/plain": [
       "True"
      ]
     },
     "execution_count": 59,
     "metadata": {},
     "output_type": "execute_result"
    }
   ],
   "source": [
    "sw.startswith(\"j\")"
   ]
  },
  {
   "cell_type": "code",
   "execution_count": 60,
   "id": "6e7e96ae-e49f-41ec-9949-cf7271ab9630",
   "metadata": {},
   "outputs": [
    {
     "data": {
      "text/plain": [
       "False"
      ]
     },
     "execution_count": 60,
     "metadata": {},
     "output_type": "execute_result"
    }
   ],
   "source": [
    "sw.endswith(\"e\")"
   ]
  },
  {
   "cell_type": "markdown",
   "id": "76045c14-be5a-453f-b3cf-5699ce8d21ab",
   "metadata": {},
   "source": [
    "## 5. split"
   ]
  },
  {
   "cell_type": "code",
   "execution_count": 61,
   "id": "29dd2f26-e50f-47f7-84bb-f081b1524006",
   "metadata": {},
   "outputs": [],
   "source": [
    "str_spl = \"helllo jaimeen sksdf\""
   ]
  },
  {
   "cell_type": "code",
   "execution_count": 62,
   "id": "ba4d08f7-3260-4e01-8e0e-b2874ecf98b2",
   "metadata": {},
   "outputs": [
    {
     "data": {
      "text/plain": [
       "['helllo', 'jaimeen', 'sksdf']"
      ]
     },
     "execution_count": 62,
     "metadata": {},
     "output_type": "execute_result"
    }
   ],
   "source": [
    "str_spl.split(\" \")"
   ]
  },
  {
   "cell_type": "code",
   "execution_count": 64,
   "id": "17b33492-d924-48bd-8990-bef537a23bf6",
   "metadata": {},
   "outputs": [
    {
     "data": {
      "text/plain": [
       "['', 'elllo jaimeen sksdf']"
      ]
     },
     "execution_count": 64,
     "metadata": {},
     "output_type": "execute_result"
    }
   ],
   "source": [
    "str_spl.split('h')"
   ]
  },
  {
   "cell_type": "code",
   "execution_count": 65,
   "id": "91679a6a-da79-468d-b51f-7e2933f2157a",
   "metadata": {},
   "outputs": [
    {
     "data": {
      "text/plain": [
       "['helllo', 'jaimeen', 'sksdf']"
      ]
     },
     "execution_count": 65,
     "metadata": {},
     "output_type": "execute_result"
    }
   ],
   "source": [
    "str_spl.split()"
   ]
  },
  {
   "cell_type": "code",
   "execution_count": 66,
   "id": "32420b59-a1b1-4959-94ab-d38e1469acfa",
   "metadata": {},
   "outputs": [
    {
     "ename": "AttributeError",
     "evalue": "'str' object has no attribute 'list'",
     "output_type": "error",
     "traceback": [
      "\u001b[31m---------------------------------------------------------------------------\u001b[39m",
      "\u001b[31mAttributeError\u001b[39m                            Traceback (most recent call last)",
      "\u001b[36mCell\u001b[39m\u001b[36m \u001b[39m\u001b[32mIn[66]\u001b[39m\u001b[32m, line 1\u001b[39m\n\u001b[32m----> \u001b[39m\u001b[32m1\u001b[39m \u001b[43mstr_spl\u001b[49m\u001b[43m.\u001b[49m\u001b[43mlist\u001b[49m()\n",
      "\u001b[31mAttributeError\u001b[39m: 'str' object has no attribute 'list'"
     ]
    }
   ],
   "source": [
    "str_spl.list()"
   ]
  },
  {
   "cell_type": "code",
   "execution_count": 67,
   "id": "6309de48-c351-4cec-8297-e0fcbc0e2d68",
   "metadata": {},
   "outputs": [
    {
     "data": {
      "text/plain": [
       "['h',\n",
       " 'e',\n",
       " 'l',\n",
       " 'l',\n",
       " 'l',\n",
       " 'o',\n",
       " ' ',\n",
       " 'j',\n",
       " 'a',\n",
       " 'i',\n",
       " 'm',\n",
       " 'e',\n",
       " 'e',\n",
       " 'n',\n",
       " ' ',\n",
       " 's',\n",
       " 'k',\n",
       " 's',\n",
       " 'd',\n",
       " 'f']"
      ]
     },
     "execution_count": 67,
     "metadata": {},
     "output_type": "execute_result"
    }
   ],
   "source": [
    "list(str_spl)"
   ]
  },
  {
   "cell_type": "markdown",
   "id": "3ffaeb00-9e8f-4ba9-b29d-957851443120",
   "metadata": {},
   "source": [
    "## 6. format"
   ]
  },
  {
   "cell_type": "code",
   "execution_count": 69,
   "id": "e08c07c8-4648-430d-bb72-74dbcd80a9a4",
   "metadata": {},
   "outputs": [
    {
     "data": {
      "text/plain": [
       "'2 4 5'"
      ]
     },
     "execution_count": 69,
     "metadata": {},
     "output_type": "execute_result"
    }
   ],
   "source": [
    "a =12\n",
    "b= 15\n",
    "c = 20\n",
    "\"{} {} {}\".format(2,4,5)"
   ]
  },
  {
   "cell_type": "markdown",
   "id": "36e97480-eb41-4ddb-a92d-23002e8955d9",
   "metadata": {},
   "source": [
    "# type casting"
   ]
  },
  {
   "cell_type": "markdown",
   "id": "4203b682-3c3f-45a4-85e8-76b4699d81c8",
   "metadata": {},
   "source": [
    "### autotype casting \n",
    "### forced type casting"
   ]
  },
  {
   "cell_type": "markdown",
   "id": "8d0b2200-4037-44fd-89f3-671c7fdec8f0",
   "metadata": {},
   "source": [
    "priority - string -> float -> integer -> boolean"
   ]
  },
  {
   "cell_type": "code",
   "execution_count": 71,
   "id": "8e1cf97e-18a9-455f-a57d-73ca678bc3cd",
   "metadata": {},
   "outputs": [
    {
     "data": {
      "text/plain": [
       "7.0"
      ]
     },
     "execution_count": 71,
     "metadata": {},
     "output_type": "execute_result"
    }
   ],
   "source": [
    "2 + 5.0 "
   ]
  },
  {
   "cell_type": "code",
   "execution_count": 72,
   "id": "36de70b3-c8e0-4129-9f4f-d3fda550174d",
   "metadata": {},
   "outputs": [
    {
     "data": {
      "text/plain": [
       "4"
      ]
     },
     "execution_count": 72,
     "metadata": {},
     "output_type": "execute_result"
    }
   ],
   "source": [
    "3  + True"
   ]
  },
  {
   "cell_type": "markdown",
   "id": "4f4c9883-e277-461e-87ad-4d6c54e51ec5",
   "metadata": {},
   "source": [
    "forced "
   ]
  },
  {
   "cell_type": "markdown",
   "id": "d68bf3ce-27d5-48d6-a4f4-5d61a47b07ba",
   "metadata": {},
   "source": [
    "### str() ,float(), int(), bool()"
   ]
  },
  {
   "cell_type": "code",
   "execution_count": 74,
   "id": "3856ab3c-3c02-47c4-8808-52e9c652e980",
   "metadata": {},
   "outputs": [
    {
     "data": {
      "text/plain": [
       "False"
      ]
     },
     "execution_count": 74,
     "metadata": {},
     "output_type": "execute_result"
    }
   ],
   "source": [
    "bool('')"
   ]
  },
  {
   "cell_type": "code",
   "execution_count": 75,
   "id": "4a6b4908-a4f5-4cbd-bc24-427e1d185c7d",
   "metadata": {
    "editable": true,
    "slideshow": {
     "slide_type": ""
    },
    "tags": []
   },
   "outputs": [
    {
     "ename": "ValueError",
     "evalue": "invalid literal for int() with base 10: '5.6'",
     "output_type": "error",
     "traceback": [
      "\u001b[31m---------------------------------------------------------------------------\u001b[39m",
      "\u001b[31mValueError\u001b[39m                                Traceback (most recent call last)",
      "\u001b[36mCell\u001b[39m\u001b[36m \u001b[39m\u001b[32mIn[75]\u001b[39m\u001b[32m, line 1\u001b[39m\n\u001b[32m----> \u001b[39m\u001b[32m1\u001b[39m \u001b[38;5;28;43mint\u001b[39;49m\u001b[43m(\u001b[49m\u001b[33;43m'\u001b[39;49m\u001b[33;43m5.6\u001b[39;49m\u001b[33;43m'\u001b[39;49m\u001b[43m)\u001b[49m\n",
      "\u001b[31mValueError\u001b[39m: invalid literal for int() with base 10: '5.6'"
     ]
    }
   ],
   "source": [
    "int('5.6')"
   ]
  },
  {
   "cell_type": "markdown",
   "id": "eb4b12c4-6f3b-4620-98a6-04c341145f7c",
   "metadata": {
    "editable": true,
    "slideshow": {
     "slide_type": ""
    },
    "tags": []
   },
   "source": [
    "# operators"
   ]
  },
  {
   "cell_type": "markdown",
   "id": "5cbeb66b-8e86-4b59-afc6-9207bfc37d03",
   "metadata": {},
   "source": [
    "# arithmatic op"
   ]
  },
  {
   "cell_type": "markdown",
   "id": "3cf027c7-6c3d-4d01-a31f-93201f49c8e8",
   "metadata": {},
   "source": [
    "# comparison op"
   ]
  },
  {
   "cell_type": "markdown",
   "id": "e90d8849-f134-4c24-832a-8b7f363246ce",
   "metadata": {},
   "source": [
    "# LOGICAL OP"
   ]
  },
  {
   "cell_type": "markdown",
   "id": "4b8b70ec-2444-47fa-8912-24e1725179cc",
   "metadata": {},
   "source": [
    "# conditional statement"
   ]
  },
  {
   "cell_type": "code",
   "execution_count": 77,
   "id": "e86e59dc-859b-4460-90a8-f6cd953f8d29",
   "metadata": {},
   "outputs": [],
   "source": [
    "if 5 > 6 :\n",
    "    print(\"false\")"
   ]
  },
  {
   "cell_type": "code",
   "execution_count": 80,
   "id": "764d53dc-a238-47c3-a323-3deaf803269f",
   "metadata": {},
   "outputs": [
    {
     "name": "stdout",
     "output_type": "stream",
     "text": [
      "odd\n"
     ]
    }
   ],
   "source": [
    "number = 13\n",
    "if number % 2 == 0:\n",
    "    print(\"even\")\n",
    "else:\n",
    "    print(\"odd\")"
   ]
  },
  {
   "cell_type": "markdown",
   "id": "0a0eceee-04fb-4cae-8604-c718fd7ba409",
   "metadata": {},
   "source": [
    "# if elif else"
   ]
  },
  {
   "cell_type": "markdown",
   "id": "e08a4da6-f7f0-46a3-98e7-cbe7695638d4",
   "metadata": {},
   "source": [
    "# nested if else"
   ]
  }
 ],
 "metadata": {
  "kernelspec": {
   "display_name": "Python 3 (ipykernel)",
   "language": "python",
   "name": "python3"
  },
  "language_info": {
   "codemirror_mode": {
    "name": "ipython",
    "version": 3
   },
   "file_extension": ".py",
   "mimetype": "text/x-python",
   "name": "python",
   "nbconvert_exporter": "python",
   "pygments_lexer": "ipython3",
   "version": "3.13.3"
  }
 },
 "nbformat": 4,
 "nbformat_minor": 5
}
