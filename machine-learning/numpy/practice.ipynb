{
 "cells": [
  {
   "cell_type": "code",
   "execution_count": 2,
   "id": "818d78ce-0002-46ff-b4aa-5d4930a21098",
   "metadata": {},
   "outputs": [],
   "source": [
    "import numpy as np"
   ]
  },
  {
   "cell_type": "code",
   "execution_count": 3,
   "id": "4482707a-a6ef-4466-a4db-8d13f6b60ea6",
   "metadata": {},
   "outputs": [
    {
     "data": {
      "text/plain": [
       "array([0, 1, 2, 3, 4, 5, 6, 7, 8, 9])"
      ]
     },
     "execution_count": 3,
     "metadata": {},
     "output_type": "execute_result"
    }
   ],
   "source": [
    "arr = np.arange(10)\n",
    "arr"
   ]
  },
  {
   "cell_type": "code",
   "execution_count": 5,
   "id": "565ab5f8-eaf8-45e0-84c6-943c5ccac2c3",
   "metadata": {},
   "outputs": [
    {
     "data": {
      "text/plain": [
       "array([2, 4, 6, 8])"
      ]
     },
     "execution_count": 5,
     "metadata": {},
     "output_type": "execute_result"
    }
   ],
   "source": [
    "arr1 = np.arange(2,10,2)\n",
    "arr1"
   ]
  },
  {
   "cell_type": "code",
   "execution_count": 9,
   "id": "76afd686-f320-4a8d-8515-59e332ecd51e",
   "metadata": {},
   "outputs": [
    {
     "data": {
      "text/plain": [
       "array([-2,  1,  4,  7])"
      ]
     },
     "execution_count": 9,
     "metadata": {},
     "output_type": "execute_result"
    }
   ],
   "source": [
    "arr2 =np.arange(-2,10, 3)\n",
    "arr2"
   ]
  },
  {
   "cell_type": "code",
   "execution_count": 10,
   "id": "bbb00dc6-ad54-4b53-a588-f3c0d0d8c3e1",
   "metadata": {},
   "outputs": [
    {
     "data": {
      "text/plain": [
       "array([[1., 1., 1.],\n",
       "       [1., 1., 1.],\n",
       "       [1., 1., 1.]])"
      ]
     },
     "execution_count": 10,
     "metadata": {},
     "output_type": "execute_result"
    }
   ],
   "source": [
    "ones = np.ones((3,3))\n",
    "ones"
   ]
  },
  {
   "cell_type": "code",
   "execution_count": 13,
   "id": "18017983-c67c-402b-8b78-4c96151229b9",
   "metadata": {},
   "outputs": [
    {
     "data": {
      "text/plain": [
       "array([[1., 1., 1., 1., 1., 1.],\n",
       "       [1., 1., 1., 1., 1., 1.],\n",
       "       [1., 1., 1., 1., 1., 1.],\n",
       "       [1., 1., 1., 1., 1., 1.]])"
      ]
     },
     "execution_count": 13,
     "metadata": {},
     "output_type": "execute_result"
    }
   ],
   "source": [
    "one1 = np.ones((4,6))\n",
    "one1"
   ]
  },
  {
   "cell_type": "code",
   "execution_count": 14,
   "id": "9104e814-e68b-4e7c-afb9-8fc3cbca24bc",
   "metadata": {},
   "outputs": [],
   "source": [
    "eye1 = np.eye(3)"
   ]
  },
  {
   "cell_type": "code",
   "execution_count": 15,
   "id": "8df135f2-7df7-4114-adc5-4d0304554bec",
   "metadata": {},
   "outputs": [
    {
     "data": {
      "text/plain": [
       "array([[1., 0., 0.],\n",
       "       [0., 1., 0.],\n",
       "       [0., 0., 1.]])"
      ]
     },
     "execution_count": 15,
     "metadata": {},
     "output_type": "execute_result"
    }
   ],
   "source": [
    "eye1"
   ]
  },
  {
   "cell_type": "code",
   "execution_count": 16,
   "id": "b4537c21-8473-4717-a471-25cae2caa1b2",
   "metadata": {},
   "outputs": [
    {
     "data": {
      "text/plain": [
       "array([[1., 0., 0., 0., 0., 0.],\n",
       "       [0., 1., 0., 0., 0., 0.],\n",
       "       [0., 0., 1., 0., 0., 0.],\n",
       "       [0., 0., 0., 1., 0., 0.],\n",
       "       [0., 0., 0., 0., 1., 0.],\n",
       "       [0., 0., 0., 0., 0., 1.]])"
      ]
     },
     "execution_count": 16,
     "metadata": {},
     "output_type": "execute_result"
    }
   ],
   "source": [
    "eye2 = np.eye(6)\n",
    "eye2"
   ]
  },
  {
   "cell_type": "code",
   "execution_count": 20,
   "id": "ef7b0a33-015c-4cb0-a445-a2d7eaaef143",
   "metadata": {},
   "outputs": [
    {
     "data": {
      "text/plain": [
       "array([[1., 0., 0.],\n",
       "       [0., 1., 0.],\n",
       "       [0., 0., 1.]])"
      ]
     },
     "execution_count": 20,
     "metadata": {},
     "output_type": "execute_result"
    }
   ],
   "source": [
    "arr5 = eye1.reshape(3,3)\n",
    "arr5"
   ]
  },
  {
   "cell_type": "code",
   "execution_count": 22,
   "id": "af719021-0662-423e-bcf7-c90a8ccbdfbb",
   "metadata": {},
   "outputs": [
    {
     "data": {
      "text/plain": [
       "array([[0.24276829, 0.93221755, 0.64830907, 0.54395545],\n",
       "       [0.63312571, 0.94188045, 0.41392903, 0.22264736],\n",
       "       [0.41623732, 0.86443504, 0.73219234, 0.33502163]])"
      ]
     },
     "execution_count": 22,
     "metadata": {},
     "output_type": "execute_result"
    }
   ],
   "source": [
    "random1 = np.random.rand(3,4)\n",
    "random1"
   ]
  },
  {
   "cell_type": "code",
   "execution_count": 23,
   "id": "d47709f5-ac8b-4539-800f-6926d66d87b4",
   "metadata": {},
   "outputs": [
    {
     "name": "stdout",
     "output_type": "stream",
     "text": [
      "32\n",
      "1\n"
     ]
    }
   ],
   "source": [
    "arr = np.array([4,5,32,5,23,1,4,9])\n",
    "print(arr.max())\n",
    "print(arr.min())"
   ]
  },
  {
   "cell_type": "code",
   "execution_count": 31,
   "id": "de6f613f-264b-449d-a7f6-f7398611ba0d",
   "metadata": {},
   "outputs": [
    {
     "data": {
      "text/plain": [
       "np.int64(120)"
      ]
     },
     "execution_count": 31,
     "metadata": {},
     "output_type": "execute_result"
    }
   ],
   "source": [
    "matrix = np.arange(16).reshape(8,2).sum()\n",
    "matrix\n",
    "# matrix.sum()"
   ]
  },
  {
   "cell_type": "code",
   "execution_count": 32,
   "id": "f4e0ee21-4763-4777-b9fa-c0ad45b18c26",
   "metadata": {},
   "outputs": [
    {
     "name": "stdout",
     "output_type": "stream",
     "text": [
      "[5 4 3 2 1]\n"
     ]
    }
   ],
   "source": [
    "a = np.array([1,2,3,4,5])\n",
    "print(a[::-1])"
   ]
  },
  {
   "cell_type": "code",
   "execution_count": 33,
   "id": "2b8c4db8-f5f2-4caa-aee0-211f50f00316",
   "metadata": {},
   "outputs": [
    {
     "name": "stdout",
     "output_type": "stream",
     "text": [
      "True\n"
     ]
    }
   ],
   "source": [
    "a = np.array([1,2,7,12,4])\n",
    "print(np.any(a > 10))"
   ]
  },
  {
   "cell_type": "code",
   "execution_count": 34,
   "id": "73dfb6fb-b470-446f-aaff-60c25a625483",
   "metadata": {},
   "outputs": [
    {
     "name": "stdout",
     "output_type": "stream",
     "text": [
      "[0 2 0 4]\n"
     ]
    }
   ],
   "source": [
    "a = np.array([-1,2,-3,4])\n",
    "a[a<0] = 0\n",
    "print(a)"
   ]
  },
  {
   "cell_type": "code",
   "execution_count": 35,
   "id": "f1ba3c29-8510-48bb-b95b-5cf5cb4eae7d",
   "metadata": {},
   "outputs": [
    {
     "name": "stdout",
     "output_type": "stream",
     "text": [
      "[5 7 8]\n"
     ]
    }
   ],
   "source": [
    "a=  np.array([[5,1,2],[9,7,3],[6,4,8]])\n",
    "print(np.diag(a))\n"
   ]
  },
  {
   "cell_type": "code",
   "execution_count": 37,
   "id": "fab99532-0355-4468-9a46-855cdf9d6d2b",
   "metadata": {},
   "outputs": [
    {
     "data": {
      "text/plain": [
       "array([ 0.,  0.,  0.,  0., 99.,  0.,  0.,  0.,  0.,  0.])"
      ]
     },
     "execution_count": 37,
     "metadata": {},
     "output_type": "execute_result"
    }
   ],
   "source": [
    "arr = np.zeros(10)\n",
    "arr[4]  = 99\n",
    "arr"
   ]
  },
  {
   "cell_type": "code",
   "execution_count": 38,
   "id": "62660644-a3a7-4e82-81b6-25787bd6a787",
   "metadata": {},
   "outputs": [
    {
     "data": {
      "text/plain": [
       "array([ 3,  6, 12])"
      ]
     },
     "execution_count": 38,
     "metadata": {},
     "output_type": "execute_result"
    }
   ],
   "source": [
    "a = np.array([1,2,4])\n",
    "a*3"
   ]
  },
  {
   "cell_type": "code",
   "execution_count": 49,
   "id": "794d5bd3-ed1f-4d74-8723-49640a738a22",
   "metadata": {},
   "outputs": [
    {
     "data": {
      "text/plain": [
       "np.int64(2280)"
      ]
     },
     "execution_count": 49,
     "metadata": {},
     "output_type": "execute_result"
    }
   ],
   "source": [
    "a = np.random.randint(20,100, size=36).reshape(1,1,1,9,4).sum()\n",
    "a"
   ]
  },
  {
   "cell_type": "code",
   "execution_count": 51,
   "id": "613dbbdc-544b-4056-8373-cb8a9435445a",
   "metadata": {},
   "outputs": [
    {
     "data": {
      "text/plain": [
       "array([[ 0,  1,  2],\n",
       "       [ 3,  4,  5],\n",
       "       [ 6,  7,  8],\n",
       "       [ 9, 10, 11]])"
      ]
     },
     "execution_count": 51,
     "metadata": {},
     "output_type": "execute_result"
    }
   ],
   "source": [
    "arr = np.arange(12).reshape(4,3)\n",
    "arr"
   ]
  },
  {
   "cell_type": "code",
   "execution_count": 52,
   "id": "61040151-55e6-4da5-b5ab-950235a93fac",
   "metadata": {},
   "outputs": [
    {
     "data": {
      "text/plain": [
       "np.int64(5)"
      ]
     },
     "execution_count": 52,
     "metadata": {},
     "output_type": "execute_result"
    }
   ],
   "source": [
    "a = np.array([1,2,3,4,5,6])\n",
    "np.argmax(a)"
   ]
  },
  {
   "cell_type": "code",
   "execution_count": 59,
   "id": "881917e8-352e-4858-a25b-01ded54bce72",
   "metadata": {},
   "outputs": [
    {
     "name": "stdout",
     "output_type": "stream",
     "text": [
      "[[0 1 2]\n",
      " [3 4 5]\n",
      " [6 7 8]]\n",
      "[0 1 2]\n"
     ]
    }
   ],
   "source": [
    "a = np.arange(9).reshape(3,3)\n",
    "print(a)\n",
    "print(a[0,:])"
   ]
  },
  {
   "cell_type": "code",
   "execution_count": 61,
   "id": "41d81afb-08ab-4592-a216-347f77865256",
   "metadata": {},
   "outputs": [
    {
     "data": {
      "text/plain": [
       "array([3., 4.])"
      ]
     },
     "execution_count": 61,
     "metadata": {},
     "output_type": "execute_result"
    }
   ],
   "source": [
    "a = np.array([[1,2],[3,4],[5,6]])\n",
    "np.mean(a, axis=0)"
   ]
  },
  {
   "cell_type": "code",
   "execution_count": 63,
   "id": "52fd2928-13f0-40fd-91e6-865ce6922d9c",
   "metadata": {},
   "outputs": [
    {
     "data": {
      "text/plain": [
       "array([0.  , 0.01, 0.02, 0.03, 0.04, 0.05, 0.06, 0.07, 0.08, 0.09, 0.1 ,\n",
       "       0.11, 0.12, 0.13, 0.14, 0.15, 0.16, 0.17, 0.18, 0.19, 0.2 , 0.21,\n",
       "       0.22, 0.23, 0.24, 0.25, 0.26, 0.27, 0.28, 0.29, 0.3 , 0.31, 0.32,\n",
       "       0.33, 0.34, 0.35, 0.36, 0.37, 0.38, 0.39, 0.4 , 0.41, 0.42, 0.43,\n",
       "       0.44, 0.45, 0.46, 0.47, 0.48, 0.49, 0.5 , 0.51, 0.52, 0.53, 0.54,\n",
       "       0.55, 0.56, 0.57, 0.58, 0.59, 0.6 , 0.61, 0.62, 0.63, 0.64, 0.65,\n",
       "       0.66, 0.67, 0.68, 0.69, 0.7 , 0.71, 0.72, 0.73, 0.74, 0.75, 0.76,\n",
       "       0.77, 0.78, 0.79, 0.8 , 0.81, 0.82, 0.83, 0.84, 0.85, 0.86, 0.87,\n",
       "       0.88, 0.89, 0.9 , 0.91, 0.92, 0.93, 0.94, 0.95, 0.96, 0.97, 0.98,\n",
       "       0.99, 1.  , 1.01, 1.02, 1.03, 1.04, 1.05, 1.06, 1.07, 1.08, 1.09])"
      ]
     },
     "execution_count": 63,
     "metadata": {},
     "output_type": "execute_result"
    }
   ],
   "source": [
    "seq = np.arange(0,1.1, 0.01)\n",
    "seq"
   ]
  },
  {
   "cell_type": "code",
   "execution_count": 64,
   "id": "5d8841e4-6f13-4ce4-8fde-fbf74676e647",
   "metadata": {},
   "outputs": [
    {
     "data": {
      "text/plain": [
       "array([1, 2, 3])"
      ]
     },
     "execution_count": 64,
     "metadata": {},
     "output_type": "execute_result"
    }
   ],
   "source": [
    "a = np.array([1.1,2.5,3.9])\n",
    "a.astype(int)"
   ]
  },
  {
   "cell_type": "code",
   "execution_count": 66,
   "id": "74c77c7d-7bfd-456b-bec9-030783e25d4f",
   "metadata": {},
   "outputs": [
    {
     "name": "stdout",
     "output_type": "stream",
     "text": [
      "[[1 2]\n",
      " [3 4]]\n",
      "[1 2 3 4]\n"
     ]
    }
   ],
   "source": [
    "a = np.array([1,2])\n",
    "b = np.array([3,4])\n",
    "print(np.vstack([a,b]))\n",
    "print(np.hstack([a,b]))"
   ]
  },
  {
   "cell_type": "code",
   "execution_count": 67,
   "id": "6e9ce9b4-d234-4430-b9c8-da95fceb8bf6",
   "metadata": {},
   "outputs": [
    {
     "name": "stdout",
     "output_type": "stream",
     "text": [
      "Array: [49 48 48 78 83 32 31 12 23  3]\n",
      "Mask: [False False False  True  True False False False False False]\n"
     ]
    }
   ],
   "source": [
    "a = np.random.randint(0, 100, size=10)\n",
    "print(\"Array:\", a)\n",
    "print(\"Mask:\", a > 50)\n"
   ]
  },
  {
   "cell_type": "code",
   "execution_count": 68,
   "id": "05bd8280-b3e7-4660-847c-bcb3c6ab3a06",
   "metadata": {},
   "outputs": [
    {
     "name": "stdout",
     "output_type": "stream",
     "text": [
      "Array: [[49 46 48 78 83]\n",
      " [32 31 12 23  3]]\n",
      "Mask: [[False False False  True  True]\n",
      " [False False False False False]]\n"
     ]
    }
   ],
   "source": [
    "a = np.array([[49, 46 ,48, 78 ,83],[ 32, 31, 12, 23,  3]])\n",
    "print(\"Array:\", a)\n",
    "print(\"Mask:\", a > 50)\n"
   ]
  },
  {
   "cell_type": "code",
   "execution_count": 70,
   "id": "6ead7a8c-4a6d-46a0-8c06-d6b03b96d620",
   "metadata": {},
   "outputs": [
    {
     "data": {
      "text/plain": [
       "array([[[0, 0, 0, 0, 0, 0, 0, 0],\n",
       "        [1, 1, 1, 1, 1, 1, 1, 1],\n",
       "        [2, 2, 2, 2, 2, 2, 2, 2],\n",
       "        [3, 3, 3, 3, 3, 3, 3, 3],\n",
       "        [4, 4, 4, 4, 4, 4, 4, 4],\n",
       "        [5, 5, 5, 5, 5, 5, 5, 5],\n",
       "        [6, 6, 6, 6, 6, 6, 6, 6],\n",
       "        [7, 7, 7, 7, 7, 7, 7, 7]],\n",
       "\n",
       "       [[0, 1, 2, 3, 4, 5, 6, 7],\n",
       "        [0, 1, 2, 3, 4, 5, 6, 7],\n",
       "        [0, 1, 2, 3, 4, 5, 6, 7],\n",
       "        [0, 1, 2, 3, 4, 5, 6, 7],\n",
       "        [0, 1, 2, 3, 4, 5, 6, 7],\n",
       "        [0, 1, 2, 3, 4, 5, 6, 7],\n",
       "        [0, 1, 2, 3, 4, 5, 6, 7],\n",
       "        [0, 1, 2, 3, 4, 5, 6, 7]]])"
      ]
     },
     "execution_count": 70,
     "metadata": {},
     "output_type": "execute_result"
    }
   ],
   "source": [
    "a = np.indices((8,8))\n",
    "a"
   ]
  },
  {
   "cell_type": "code",
   "execution_count": 71,
   "id": "6fac0827-fe1d-4285-b0eb-34b1dedc1007",
   "metadata": {},
   "outputs": [
    {
     "data": {
      "text/plain": [
       "array([[ 0,  1,  2,  3],\n",
       "       [ 4,  5,  6,  7],\n",
       "       [ 8,  9, 10, 11]])"
      ]
     },
     "execution_count": 71,
     "metadata": {},
     "output_type": "execute_result"
    }
   ],
   "source": [
    "arr10 = np.arange(12).reshape(3,4)\n",
    "arr10"
   ]
  },
  {
   "cell_type": "code",
   "execution_count": 74,
   "id": "32ba73c4-4d1d-45e5-b800-ea190a65a605",
   "metadata": {},
   "outputs": [
    {
     "data": {
      "text/plain": [
       "array([10, 33, 50, 50, 29, 37, 50, 11, 50, 32], dtype=int32)"
      ]
     },
     "execution_count": 74,
     "metadata": {},
     "output_type": "execute_result"
    }
   ],
   "source": [
    "a = np.random.randint(0,100, size=10)\n",
    "a\n",
    "clipped = np.clip(a,10, 50)\n",
    "clipped"
   ]
  },
  {
   "cell_type": "code",
   "execution_count": 78,
   "id": "2e943b49-83dd-495b-99aa-b05e7d37fb75",
   "metadata": {},
   "outputs": [
    {
     "data": {
      "text/plain": [
       "array([1.        , 1.08163265, 1.16326531, 1.24489796, 1.32653061,\n",
       "       1.40816327, 1.48979592, 1.57142857, 1.65306122, 1.73469388,\n",
       "       1.81632653, 1.89795918, 1.97959184, 2.06122449, 2.14285714,\n",
       "       2.2244898 , 2.30612245, 2.3877551 , 2.46938776, 2.55102041,\n",
       "       2.63265306, 2.71428571, 2.79591837, 2.87755102, 2.95918367,\n",
       "       3.04081633, 3.12244898, 3.20408163, 3.28571429, 3.36734694,\n",
       "       3.44897959, 3.53061224, 3.6122449 , 3.69387755, 3.7755102 ,\n",
       "       3.85714286, 3.93877551, 4.02040816, 4.10204082, 4.18367347,\n",
       "       4.26530612, 4.34693878, 4.42857143, 4.51020408, 4.59183673,\n",
       "       4.67346939, 4.75510204, 4.83673469, 4.91836735, 5.        ])"
      ]
     },
     "execution_count": 78,
     "metadata": {},
     "output_type": "execute_result"
    }
   ],
   "source": [
    "np.linspace(1,5)"
   ]
  },
  {
   "cell_type": "code",
   "execution_count": 80,
   "id": "eb00c03f-4297-4004-80bf-674a5dda203b",
   "metadata": {},
   "outputs": [
    {
     "name": "stdout",
     "output_type": "stream",
     "text": [
      "[[ 1.42941809  0.59731474 -0.47283066  0.57333359]\n",
      " [ 0.76146918 -1.12064586 -0.48056923 -2.39952265]\n",
      " [ 0.91944523  0.53505956 -0.05138592  0.27466601]\n",
      " [-0.49616534  1.77086685 -0.78515117  1.03917939]]\n",
      "[[ 1.42941809  0.59731474 -0.47283066  0.57333359]\n",
      " [ 0.76146918 -1.12064586 -0.48056923 -2.39952265]\n",
      " [ 0.91944523  0.53505956 -0.05138592  0.27466601]\n",
      " [-0.49616534  1.77086685 -0.78515117  1.03917939]]\n"
     ]
    }
   ],
   "source": [
    "image = np.zeros((4,4))\n",
    "noise = np.random.normal(0,1,size=(4,4))\n",
    "print(noise)\n",
    "noisy = image + noise\n",
    "\n",
    "print(noisy)"
   ]
  },
  {
   "cell_type": "code",
   "execution_count": 81,
   "id": "d5245fb6-36b1-462d-8ac2-a83ea9801725",
   "metadata": {},
   "outputs": [
    {
     "data": {
      "text/plain": [
       "array([ 1.  ,  5.75, 10.5 , 15.25, 20.  ])"
      ]
     },
     "execution_count": 81,
     "metadata": {},
     "output_type": "execute_result"
    }
   ],
   "source": [
    "np.linspace(1,20,5)"
   ]
  },
  {
   "cell_type": "code",
   "execution_count": 82,
   "id": "dfd0c9a6-a6bb-48bd-bff3-d23754535b49",
   "metadata": {},
   "outputs": [
    {
     "name": "stdout",
     "output_type": "stream",
     "text": [
      "[[1. 1. 1. 1. 1.]\n",
      " [1. 0. 0. 0. 1.]\n",
      " [1. 0. 0. 0. 1.]\n",
      " [1. 0. 0. 0. 1.]\n",
      " [1. 1. 1. 1. 1.]]\n"
     ]
    }
   ],
   "source": [
    "a = np.ones((5, 5))\n",
    "a[1:-1, 1:-1] = 0\n",
    "print(a)\n"
   ]
  },
  {
   "cell_type": "code",
   "execution_count": 83,
   "id": "c332c2ac-a677-4683-b13b-a772a060aa86",
   "metadata": {},
   "outputs": [
    {
     "name": "stdout",
     "output_type": "stream",
     "text": [
      "[20 55 43 29 71]\n",
      "Normalized: [0.         0.68627451 0.45098039 0.17647059 1.        ]\n"
     ]
    }
   ],
   "source": [
    "a = np.random.randint(1, 100, size=5)\n",
    "print(a)\n",
    "normalized = (a - a.min()) / (a.max() - a.min())\n",
    "print(\"Normalized:\", normalized)\n"
   ]
  },
  {
   "cell_type": "code",
   "execution_count": 84,
   "id": "29765075-2a6c-4f72-b546-1739981312f3",
   "metadata": {},
   "outputs": [
    {
     "name": "stdout",
     "output_type": "stream",
     "text": [
      "[1 2 3 4]\n"
     ]
    }
   ],
   "source": [
    "a = np.array([1, 2, 2, 3, 1, 4])\n",
    "print(np.unique(a))\n"
   ]
  },
  {
   "cell_type": "code",
   "execution_count": 85,
   "id": "9bd6156c-c74c-40b6-93e9-34bbd52713c3",
   "metadata": {},
   "outputs": [
    {
     "name": "stdout",
     "output_type": "stream",
     "text": [
      "Horizontal flip:\n",
      " [[2 1]\n",
      " [4 3]]\n",
      "Vertical flip:\n",
      " [[3 4]\n",
      " [1 2]]\n"
     ]
    }
   ],
   "source": [
    "a = np.array([[1, 2], [3, 4]])\n",
    "print(\"Horizontal flip:\\n\", np.fliplr(a))\n",
    "print(\"Vertical flip:\\n\", np.flipud(a))\n"
   ]
  },
  {
   "cell_type": "code",
   "execution_count": 86,
   "id": "b6b7c219-1fc6-4c5f-bb75-6b1d0965ca73",
   "metadata": {},
   "outputs": [
    {
     "name": "stdout",
     "output_type": "stream",
     "text": [
      "Count > 10: 5\n"
     ]
    }
   ],
   "source": [
    "a = np.random.randint(0, 20, size=10)\n",
    "print(\"Count > 10:\", np.sum(a > 10))\n"
   ]
  },
  {
   "cell_type": "code",
   "execution_count": 87,
   "id": "332728ec-f86e-4c14-80aa-2a4e85054118",
   "metadata": {},
   "outputs": [
    {
     "name": "stdout",
     "output_type": "stream",
     "text": [
      "Array: [98 15 97 34 69 18 98 12 74 32]\n",
      "Mask: [ True False  True False  True False  True False  True False]\n"
     ]
    }
   ],
   "source": [
    "a = np.random.randint(0, 100, size=10)\n",
    "print(\"Array:\", a)\n",
    "print(\"Mask:\", a > 50)\n"
   ]
  },
  {
   "cell_type": "code",
   "execution_count": 88,
   "id": "fbbd9e2e-a747-4d07-968c-0b33ce69ea9c",
   "metadata": {},
   "outputs": [
    {
     "data": {
      "text/plain": [
       "array([], shape=(0, 1), dtype=float64)"
      ]
     },
     "execution_count": 88,
     "metadata": {},
     "output_type": "execute_result"
    }
   ],
   "source": [
    "np.random.rand(0,1)"
   ]
  },
  {
   "cell_type": "code",
   "execution_count": 89,
   "id": "db1c00c2-52b4-4042-a2cf-6908372932e4",
   "metadata": {},
   "outputs": [
    {
     "data": {
      "text/plain": [
       "0.4676591377064798"
      ]
     },
     "execution_count": 89,
     "metadata": {},
     "output_type": "execute_result"
    }
   ],
   "source": [
    "np.random.rand()"
   ]
  },
  {
   "cell_type": "code",
   "execution_count": 90,
   "id": "77469a1d-499e-44c9-a7d6-eca73776cb7c",
   "metadata": {},
   "outputs": [
    {
     "data": {
      "text/plain": [
       "array([0.04606589, 0.15326726, 0.8875093 , 0.19540389, 0.89223702,\n",
       "       0.93537534, 0.53421973, 0.8632948 , 0.40963733, 0.2190539 ,\n",
       "       0.62646938, 0.41648577, 0.23754578, 0.78823176, 0.21859562,\n",
       "       0.27681538, 0.92126528, 0.44483888, 0.42848107, 0.40082279])"
      ]
     },
     "execution_count": 90,
     "metadata": {},
     "output_type": "execute_result"
    }
   ],
   "source": [
    "np.random.rand(20)"
   ]
  },
  {
   "cell_type": "code",
   "execution_count": 93,
   "id": "99ecbb67-0b51-476c-a71d-dceb74e48d3b",
   "metadata": {},
   "outputs": [
    {
     "data": {
      "text/plain": [
       "1"
      ]
     },
     "execution_count": 93,
     "metadata": {},
     "output_type": "execute_result"
    }
   ],
   "source": [
    "np.random.randint(2)"
   ]
  },
  {
   "cell_type": "code",
   "execution_count": 96,
   "id": "fa1dfdb4-4cef-41e6-93b0-9049dacfb67c",
   "metadata": {},
   "outputs": [
    {
     "data": {
      "text/plain": [
       "array([[0.36155359, 0.89983196, 0.08484493, 0.4672102 , 0.60333291,\n",
       "        0.87521943, 0.736873  , 0.28580317, 0.97304014, 0.87265581]])"
      ]
     },
     "execution_count": 96,
     "metadata": {},
     "output_type": "execute_result"
    }
   ],
   "source": [
    "np.random.rand(1,10)"
   ]
  },
  {
   "cell_type": "code",
   "execution_count": 99,
   "id": "f1ca2dbb-48ba-4abf-8547-2a659d6a018b",
   "metadata": {},
   "outputs": [
    {
     "data": {
      "text/plain": [
       "array([[[0.63332302, 0.83709277, 0.10820567, 0.26125497, 0.77979579],\n",
       "        [0.60353831, 0.17586487, 0.81813703, 0.06669442, 0.92450046]],\n",
       "\n",
       "       [[0.46573867, 0.32612838, 0.15285328, 0.60703795, 0.39891929],\n",
       "        [0.08944121, 0.48886731, 0.77551222, 0.06832545, 0.13844783]],\n",
       "\n",
       "       [[0.31974734, 0.17185112, 0.88016353, 0.84424303, 0.30329666],\n",
       "        [0.74895794, 0.91836878, 0.69280532, 0.85463889, 0.54094922]],\n",
       "\n",
       "       [[0.25585938, 0.3704346 , 0.44230046, 0.32284164, 0.23161151],\n",
       "        [0.87450844, 0.475441  , 0.62119852, 0.30912874, 0.77488907]],\n",
       "\n",
       "       [[0.47719137, 0.25493392, 0.35657467, 0.65980966, 0.03964135],\n",
       "        [0.46788857, 0.89636294, 0.10861384, 0.63148412, 0.69796597]],\n",
       "\n",
       "       [[0.25247377, 0.34747755, 0.57578064, 0.26941931, 0.11265353],\n",
       "        [0.6310683 , 0.66954286, 0.45804598, 0.23331713, 0.26055699]],\n",
       "\n",
       "       [[0.32418881, 0.64218573, 0.06478245, 0.86302338, 0.8223084 ],\n",
       "        [0.53315251, 0.14376294, 0.43298524, 0.07338915, 0.97973828]],\n",
       "\n",
       "       [[0.44376705, 0.12197881, 0.27712608, 0.46958843, 0.85192812],\n",
       "        [0.70962368, 0.33957916, 0.82718134, 0.6726131 , 0.2519036 ]],\n",
       "\n",
       "       [[0.30714076, 0.81101837, 0.52475539, 0.50028489, 0.42809619],\n",
       "        [0.01990045, 0.74449472, 0.18438952, 0.46803104, 0.15592923]],\n",
       "\n",
       "       [[0.46316762, 0.72462109, 0.95379291, 0.66275163, 0.2096021 ],\n",
       "        [0.85156917, 0.61466795, 0.28790316, 0.6762442 , 0.47461684]],\n",
       "\n",
       "       [[0.57809202, 0.70373642, 0.1334825 , 0.20090056, 0.39549986],\n",
       "        [0.30168687, 0.42625507, 0.10288351, 0.03482128, 0.67066623]],\n",
       "\n",
       "       [[0.08698212, 0.5212322 , 0.30149047, 0.92066241, 0.92768061],\n",
       "        [0.0529031 , 0.15619679, 0.09620451, 0.76794112, 0.3098758 ]]])"
      ]
     },
     "execution_count": 99,
     "metadata": {},
     "output_type": "execute_result"
    }
   ],
   "source": [
    "np.random.rand(12,2,5)"
   ]
  },
  {
   "cell_type": "code",
   "execution_count": 100,
   "id": "ae130013-3e60-47e4-81a7-86d3809836dc",
   "metadata": {},
   "outputs": [
    {
     "data": {
      "text/plain": [
       "array([7, 2, 5, 5, 9, 7, 7, 2, 1, 9], dtype=int32)"
      ]
     },
     "execution_count": 100,
     "metadata": {},
     "output_type": "execute_result"
    }
   ],
   "source": [
    "np.random.randint(1,10,10)"
   ]
  },
  {
   "cell_type": "code",
   "execution_count": 102,
   "id": "557ddeb6-b1fc-4537-8134-e353013a06ea",
   "metadata": {},
   "outputs": [
    {
     "data": {
      "text/plain": [
       "array([23, 26, 26, 28, 20], dtype=int32)"
      ]
     },
     "execution_count": 102,
     "metadata": {},
     "output_type": "execute_result"
    }
   ],
   "source": [
    "np.random.randint(20,30,5)"
   ]
  },
  {
   "cell_type": "code",
   "execution_count": 103,
   "id": "6a097a01-93eb-4d5b-978a-43acc21a121a",
   "metadata": {},
   "outputs": [
    {
     "data": {
      "text/plain": [
       "array([64, 66, 75, 63, 56, 72, 79, 79, 75, 69], dtype=int32)"
      ]
     },
     "execution_count": 103,
     "metadata": {},
     "output_type": "execute_result"
    }
   ],
   "source": [
    "np.random.randint(50, 80, 10)"
   ]
  },
  {
   "cell_type": "code",
   "execution_count": 104,
   "id": "029573c2-3419-4121-a041-509d45d8c8e4",
   "metadata": {},
   "outputs": [
    {
     "data": {
      "text/plain": [
       "array([[23, 80,  8, 77, 75],\n",
       "       [27, 20, 14,  7, 18],\n",
       "       [38,  6, 82, 31, 74],\n",
       "       [84, 30, 65, 12, 29]], dtype=int32)"
      ]
     },
     "execution_count": 104,
     "metadata": {},
     "output_type": "execute_result"
    }
   ],
   "source": [
    "a=  np.random.randint(0,100, (4,5))\n",
    "a"
   ]
  },
  {
   "cell_type": "code",
   "execution_count": 105,
   "id": "10a72dac-becb-4c60-bfd7-15cc7634292b",
   "metadata": {},
   "outputs": [],
   "source": [
    "a[np.arange(4), a.argmax(axis=1)] =-1"
   ]
  },
  {
   "cell_type": "code",
   "execution_count": 106,
   "id": "71fc4c3b-2cda-442f-9db9-146cfefa8eef",
   "metadata": {},
   "outputs": [
    {
     "name": "stdout",
     "output_type": "stream",
     "text": [
      "[[23 -1  8 77 75]\n",
      " [-1 20 14  7 18]\n",
      " [38  6 -1 31 74]\n",
      " [-1 30 65 12 29]]\n"
     ]
    }
   ],
   "source": [
    "print(a)"
   ]
  },
  {
   "cell_type": "code",
   "execution_count": 107,
   "id": "03d50f7e-1e90-4537-834e-e519d60184cf",
   "metadata": {},
   "outputs": [
    {
     "data": {
      "text/plain": [
       "array([[2, 4],\n",
       "       [1, 3]])"
      ]
     },
     "execution_count": 107,
     "metadata": {},
     "output_type": "execute_result"
    }
   ],
   "source": [
    "a = np.array([[1,2],[3,4]])\n",
    "rotated = np.rot90(a)\n",
    "rotated"
   ]
  },
  {
   "cell_type": "code",
   "execution_count": 108,
   "id": "433d4cf5-4cec-47d6-91a6-34eaa9d5a2a5",
   "metadata": {},
   "outputs": [
    {
     "data": {
      "text/plain": [
       "array([ 0.27663223, -0.12315895, -0.96941801, -0.04276477,  1.40182981,\n",
       "       -1.36931262])"
      ]
     },
     "execution_count": 108,
     "metadata": {},
     "output_type": "execute_result"
    }
   ],
   "source": [
    "np.random.randn(6)"
   ]
  },
  {
   "cell_type": "code",
   "execution_count": 109,
   "id": "36855538-188d-4d6b-9761-76621e4dfee1",
   "metadata": {},
   "outputs": [
    {
     "data": {
      "text/plain": [
       "array([-1.22523903, -0.05897366, -0.33814209,  0.13004039, -0.71076788,\n",
       "        0.17321968, -1.46621508,  0.36930881,  0.06723363, -1.96974287])"
      ]
     },
     "execution_count": 109,
     "metadata": {},
     "output_type": "execute_result"
    }
   ],
   "source": [
    "np.random.randn(10)"
   ]
  },
  {
   "cell_type": "code",
   "execution_count": 115,
   "id": "5b4a4af3-456d-48b2-88f9-e9a27a1250c0",
   "metadata": {},
   "outputs": [
    {
     "data": {
      "text/plain": [
       "<Axes: ylabel='Count'>"
      ]
     },
     "execution_count": 115,
     "metadata": {},
     "output_type": "execute_result"
    },
    {
     "data": {
      "image/png": "[encoded data removed]",
      "text/plain": [
       "<Figure size 640x480 with 1 Axes>"
      ]
     },
     "metadata": {},
     "output_type": "display_data"
    }
   ],
   "source": [
    "import seaborn as sns\n",
    "sns.histplot(np.random.randn(3000), kde=1)"
   ]
  },
  {
   "cell_type": "code",
   "execution_count": 118,
   "id": "5c877d63-df55-4726-8457-74d73b5e4f11",
   "metadata": {},
   "outputs": [
    {
     "name": "stdout",
     "output_type": "stream",
     "text": [
      "14.0\n"
     ]
    }
   ],
   "source": [
    "a = np.array([1,2,3])\n",
    "b = np.array([1,2,3])\n",
    "cos_sim = np.dot(a,b) /np.linalg.norm(a) * np.linalg.norm(b)\n",
    "print(cos_sim)"
   ]
  },
  {
   "cell_type": "code",
   "execution_count": 127,
   "id": "abb71f4b-8df8-4efa-a098-7577bef902f8",
   "metadata": {},
   "outputs": [
    {
     "name": "stdout",
     "output_type": "stream",
     "text": [
      "[[1. 0. 1. 0.]\n",
      " [0. 1. 0. 1.]\n",
      " [1. 0. 1. 0.]\n",
      " [0. 1. 0. 1.]]\n"
     ]
    }
   ],
   "source": [
    "I = np.eye(2)\n",
    "block = np.block([[I, I], [I, I]])\n",
    "print(block)\n"
   ]
  },
  {
   "cell_type": "code",
   "execution_count": 128,
   "id": "8b69b325-d55d-4692-85d6-401ae5f0d744",
   "metadata": {},
   "outputs": [
    {
     "name": "stdout",
     "output_type": "stream",
     "text": [
      "[[1. 0. 1. 0.]\n",
      " [0. 1. 0. 1.]\n",
      " [1. 0. 1. 0.]\n",
      " [0. 1. 0. 1.]]\n"
     ]
    }
   ],
   "source": [
    "I = np.eye(2)\n",
    "block = np.block([[I, I], [I, I]])\n",
    "print(block)\n"
   ]
  },
  {
   "cell_type": "code",
   "execution_count": 129,
   "id": "dad90a83-5f56-423a-8916-2382ecb02491",
   "metadata": {},
   "outputs": [
    {
     "name": "stdout",
     "output_type": "stream",
     "text": [
      "[1 2 3 4 5 6]\n"
     ]
    }
   ],
   "source": [
    "a = np.array([1, 3, 5])\n",
    "b = np.array([2, 4, 6])\n",
    "interleaved = np.empty(a.size + b.size, dtype=a.dtype)\n",
    "interleaved[::2], interleaved[1::2] = a, b\n",
    "print(interleaved)\n"
   ]
  },
  {
   "cell_type": "code",
   "execution_count": 132,
   "id": "10ae0d6b-7637-495b-9f8d-4d57198ddeec",
   "metadata": {},
   "outputs": [],
   "source": [
    "a = np.random.randint(1,20, 20).reshape(4,5)"
   ]
  },
  {
   "cell_type": "code",
   "execution_count": 143,
   "id": "9e5d4073-8f1e-435d-a10f-d283966d992b",
   "metadata": {},
   "outputs": [
    {
     "data": {
      "text/plain": [
       "array([1, 3, 5])"
      ]
     },
     "execution_count": 143,
     "metadata": {},
     "output_type": "execute_result"
    }
   ],
   "source": [
    "a"
   ]
  },
  {
   "cell_type": "code",
   "execution_count": 144,
   "id": "e32f92cc-3f15-4b5c-a223-8a4cfe5b48a7",
   "metadata": {},
   "outputs": [
    {
     "ename": "IndexError",
     "evalue": "too many indices for array: array is 1-dimensional, but 2 were indexed",
     "output_type": "error",
     "traceback": [
      "\u001b[31m---------------------------------------------------------------------------\u001b[39m",
      "\u001b[31mIndexError\u001b[39m                                Traceback (most recent call last)",
      "\u001b[36mCell\u001b[39m\u001b[36m \u001b[39m\u001b[32mIn[144]\u001b[39m\u001b[32m, line 1\u001b[39m\n\u001b[32m----> \u001b[39m\u001b[32m1\u001b[39m \u001b[43ma\u001b[49m\u001b[43m[\u001b[49m\u001b[43m:\u001b[49m\u001b[32;43m3\u001b[39;49m\u001b[43m,\u001b[49m\u001b[43m \u001b[49m\u001b[43m:\u001b[49m\u001b[32;43m3\u001b[39;49m\u001b[43m]\u001b[49m\n",
      "\u001b[31mIndexError\u001b[39m: too many indices for array: array is 1-dimensional, but 2 were indexed"
     ]
    }
   ],
   "source": [
    "a[:3, :3]"
   ]
  },
  {
   "cell_type": "code",
   "execution_count": 145,
   "id": "97cec37d-a254-45f2-90aa-a1c0f86edc72",
   "metadata": {},
   "outputs": [
    {
     "ename": "IndexError",
     "evalue": "too many indices for array: array is 1-dimensional, but 2 were indexed",
     "output_type": "error",
     "traceback": [
      "\u001b[31m---------------------------------------------------------------------------\u001b[39m",
      "\u001b[31mIndexError\u001b[39m                                Traceback (most recent call last)",
      "\u001b[36mCell\u001b[39m\u001b[36m \u001b[39m\u001b[32mIn[145]\u001b[39m\u001b[32m, line 1\u001b[39m\n\u001b[32m----> \u001b[39m\u001b[32m1\u001b[39m \u001b[43ma\u001b[49m\u001b[43m[\u001b[49m\u001b[43m:\u001b[49m\u001b[43m:\u001b[49m\u001b[32;43m1\u001b[39;49m\u001b[43m,\u001b[49m\u001b[43m:\u001b[49m\u001b[43m:\u001b[49m\u001b[32;43m1\u001b[39;49m\u001b[43m]\u001b[49m\n",
      "\u001b[31mIndexError\u001b[39m: too many indices for array: array is 1-dimensional, but 2 were indexed"
     ]
    }
   ],
   "source": [
    "a[::1,::1]"
   ]
  },
  {
   "cell_type": "code",
   "execution_count": 146,
   "id": "936047e1-a927-4e07-9aad-e9920a56e824",
   "metadata": {},
   "outputs": [
    {
     "ename": "IndexError",
     "evalue": "too many indices for array: array is 1-dimensional, but 2 were indexed",
     "output_type": "error",
     "traceback": [
      "\u001b[31m---------------------------------------------------------------------------\u001b[39m",
      "\u001b[31mIndexError\u001b[39m                                Traceback (most recent call last)",
      "\u001b[36mCell\u001b[39m\u001b[36m \u001b[39m\u001b[32mIn[146]\u001b[39m\u001b[32m, line 1\u001b[39m\n\u001b[32m----> \u001b[39m\u001b[32m1\u001b[39m \u001b[43ma\u001b[49m\u001b[43m[\u001b[49m\u001b[43m:\u001b[49m\u001b[43m:\u001b[49m\u001b[32;43m2\u001b[39;49m\u001b[43m,\u001b[49m\u001b[43m \u001b[49m\u001b[43m:\u001b[49m\u001b[43m:\u001b[49m\u001b[32;43m2\u001b[39;49m\u001b[43m]\u001b[49m\n",
      "\u001b[31mIndexError\u001b[39m: too many indices for array: array is 1-dimensional, but 2 were indexed"
     ]
    }
   ],
   "source": [
    "a[::2, ::2]"
   ]
  },
  {
   "cell_type": "code",
   "execution_count": 147,
   "id": "98289ba6-a15c-4c81-9654-b0f746dc59d5",
   "metadata": {},
   "outputs": [
    {
     "ename": "IndexError",
     "evalue": "too many indices for array: array is 1-dimensional, but 2 were indexed",
     "output_type": "error",
     "traceback": [
      "\u001b[31m---------------------------------------------------------------------------\u001b[39m",
      "\u001b[31mIndexError\u001b[39m                                Traceback (most recent call last)",
      "\u001b[36mCell\u001b[39m\u001b[36m \u001b[39m\u001b[32mIn[147]\u001b[39m\u001b[32m, line 1\u001b[39m\n\u001b[32m----> \u001b[39m\u001b[32m1\u001b[39m \u001b[43ma\u001b[49m\u001b[43m[\u001b[49m\u001b[43m:\u001b[49m\u001b[43m:\u001b[49m\u001b[32;43m3\u001b[39;49m\u001b[43m,\u001b[49m\u001b[43m:\u001b[49m\u001b[43m:\u001b[49m\u001b[32;43m3\u001b[39;49m\u001b[43m]\u001b[49m\n",
      "\u001b[31mIndexError\u001b[39m: too many indices for array: array is 1-dimensional, but 2 were indexed"
     ]
    }
   ],
   "source": [
    "a[::3,::3]"
   ]
  },
  {
   "cell_type": "code",
   "execution_count": 138,
   "id": "036ff989-6d5f-4ddd-bd74-111003fc3555",
   "metadata": {},
   "outputs": [
    {
     "name": "stdout",
     "output_type": "stream",
     "text": [
      "[4567521342580789569 4567521342580789569 4567521342580789569\n",
      " 4567521342580789569 4567521342580789569 4567521342580789569]\n",
      "[1 2 3 4 5 6]\n"
     ]
    }
   ],
   "source": [
    "a = np.array([1, 3, 5])\n",
    "b = np.array([2, 4, 6])\n",
    "interleaved = np.empty(a.size + b.size, dtype=a.dtype)\n",
    "print(interleaved)\n",
    "interleaved[::2], interleaved[1::2] = a, b\n",
    "print(interleaved)\n"
   ]
  },
  {
   "cell_type": "code",
   "execution_count": 148,
   "id": "af736426-2e25-46d8-8d63-6b249c8dfc77",
   "metadata": {},
   "outputs": [
    {
     "name": "stdout",
     "output_type": "stream",
     "text": [
      "[[0. 1. 1. 1.]\n",
      " [1. 1. 1. 1.]\n",
      " [1. 1. 2. 1.]\n",
      " [1. 1. 1. 3.]]\n"
     ]
    }
   ],
   "source": [
    "a = np.ones((4, 4))\n",
    "np.fill_diagonal(a, np.arange(4))\n",
    "print(a)\n"
   ]
  },
  {
   "cell_type": "code",
   "execution_count": 151,
   "id": "a64dc798-c6a5-413f-8e8b-771d8d7e8856",
   "metadata": {},
   "outputs": [
    {
     "name": "stdout",
     "output_type": "stream",
     "text": [
      "[[ 1.  2.]\n",
      " [nan  3.]\n",
      " [ 4.  5.]]\n",
      "[[1. 2.]\n",
      " [4. 5.]]\n"
     ]
    }
   ],
   "source": [
    "a = np.array([[1, 2], [np.nan, 3], [4, 5]])\n",
    "print(a)\n",
    "clean = a[~np.isnan(a).any(axis=1)]\n",
    "print(clean)\n"
   ]
  },
  {
   "cell_type": "code",
   "execution_count": 152,
   "id": "7379ae79-838d-4b54-a2bd-29ad4539d85c",
   "metadata": {},
   "outputs": [
    {
     "name": "stdout",
     "output_type": "stream",
     "text": [
      "[[ 0  1  2  3]\n",
      " [ 4  5  6  7]\n",
      " [ 8  9 10 11]\n",
      " [12 13 14 15]]\n",
      "[[ 1  2  3  0]\n",
      " [ 6  7  5  4]\n",
      " [ 8 10  9 11]\n",
      " [14 12 13 15]]\n"
     ]
    }
   ],
   "source": [
    "a = np.arange(16).reshape(4, 4)\n",
    "print(a)\n",
    "shuffled = np.array([np.random.permutation(row) for row in a])\n",
    "print(shuffled)\n"
   ]
  },
  {
   "cell_type": "code",
   "execution_count": 153,
   "id": "2641da52-8efc-4c17-a152-c6dabb8645e7",
   "metadata": {},
   "outputs": [
    {
     "name": "stdout",
     "output_type": "stream",
     "text": [
      "[4 5 1 2 3]\n"
     ]
    }
   ],
   "source": [
    "a = np.array([1, 2, 3, 4, 5])\n",
    "\n",
    "shifted = np.roll(a, 2)\n",
    "print(shifted)\n"
   ]
  },
  {
   "cell_type": "code",
   "execution_count": 154,
   "id": "72164851-2fcc-41bb-8ae3-d4b5d9ce0fca",
   "metadata": {},
   "outputs": [
    {
     "name": "stdout",
     "output_type": "stream",
     "text": [
      "[[ 1.59597047 -0.54944662 -1.07252533  0.02600148]\n",
      " [ 0.45341534  0.22387072  0.98705268 -1.66433874]\n",
      " [ 0.55480574  0.17076706  0.94101597 -1.66658877]]\n"
     ]
    }
   ],
   "source": [
    "a = np.random.rand(3, 4)\n",
    "z = (a - a.mean(axis=1, keepdims=True)) / a.std(axis=1, keepdims=True)\n",
    "print(z)\n"
   ]
  },
  {
   "cell_type": "code",
   "execution_count": 155,
   "id": "9e439857-6f26-46cc-8513-fba05c65dbb1",
   "metadata": {},
   "outputs": [
    {
     "name": "stdout",
     "output_type": "stream",
     "text": [
      "[[2 1]\n",
      " [4 3]]\n"
     ]
    }
   ],
   "source": [
    "a = np.array([[1, 2], [3, 4]])\n",
    "mirror = np.fliplr(a)\n",
    "print(mirror)\n"
   ]
  },
  {
   "cell_type": "code",
   "execution_count": 156,
   "id": "535f73d2-3d2a-4a19-847d-52b0ef2b059a",
   "metadata": {},
   "outputs": [
    {
     "name": "stdout",
     "output_type": "stream",
     "text": [
      "[[0]\n",
      " [1]\n",
      " [2]\n",
      " [3]\n",
      " [4]]\n"
     ]
    }
   ],
   "source": [
    "a = np.arange(5)\n",
    "column = a.reshape(-1, 1)\n",
    "print(column)\n"
   ]
  },
  {
   "cell_type": "code",
   "execution_count": 158,
   "id": "262bb223-bb1b-4d2c-99e5-49788ace67c1",
   "metadata": {},
   "outputs": [
    {
     "name": "stdout",
     "output_type": "stream",
     "text": [
      "[[0.88855794 0.51169824 0.88206522 0.00456671]\n",
      " [0.70173155 0.56714346 0.48005928 0.10992646]\n",
      " [0.95623716 0.62421745 0.00229973 0.81228039]]\n",
      "[[0.38854456 0.22375307 0.38570545 0.00199691]\n",
      " [0.37750625 0.30510271 0.25825457 0.05913647]\n",
      " [0.39925816 0.26062981 0.00096021 0.33915182]]\n"
     ]
    }
   ],
   "source": [
    "a = np.random.rand(3, 4)\n",
    "print(a)\n",
    "row_sum = a.sum(axis=1, keepdims=True)\n",
    "normalized = a / row_sum\n",
    "print(normalized)\n"
   ]
  },
  {
   "cell_type": "code",
   "execution_count": 159,
   "id": "8b6b305a-ebaa-4066-a01b-9cfd2cc05b6c",
   "metadata": {},
   "outputs": [
    {
     "name": "stdout",
     "output_type": "stream",
     "text": [
      "(2, 3, 4, 5)\n"
     ]
    }
   ],
   "source": [
    "tensor = np.random.randint(0, 10, size=(2, 3, 4, 5))\n",
    "print(tensor.shape)\n"
   ]
  },
  {
   "cell_type": "code",
   "execution_count": 160,
   "id": "033b17be-dfef-4bd4-8c89-89c14364503b",
   "metadata": {},
   "outputs": [
    {
     "name": "stdout",
     "output_type": "stream",
     "text": [
      "[2.16 4.16 3.76 6.16 4.  ]\n"
     ]
    }
   ],
   "source": [
    "a = np.random.randint(1, 10, (5, 5))\n",
    "print(np.var(a, axis=0))\n"
   ]
  },
  {
   "cell_type": "code",
   "execution_count": 162,
   "id": "bfce2b77-f1ed-461a-ad30-d99d79c4898a",
   "metadata": {},
   "outputs": [
    {
     "name": "stdout",
     "output_type": "stream",
     "text": [
      "[10 20 30 40]\n",
      "30\n"
     ]
    }
   ],
   "source": [
    "a = np.array([10, 20, 40, 40, 30])\n",
    "unique = np.unique(a)\n",
    "print(unique)\n",
    "second_largest = unique[-2]\n",
    "print(second_largest)\n"
   ]
  },
  {
   "cell_type": "markdown",
   "id": "68a79d16-ccb9-40e6-9935-ab319a9e5629",
   "metadata": {},
   "source": [
    "# linear algebra`"
   ]
  },
  {
   "cell_type": "code",
   "execution_count": 2,
   "id": "99cad44d-3ca8-4f22-80ee-a4f7f3f97434",
   "metadata": {},
   "outputs": [
    {
     "name": "stdout",
     "output_type": "stream",
     "text": [
      "11\n",
      "11\n"
     ]
    }
   ],
   "source": [
    "import numpy as np\n",
    "\n",
    "a = np.array([2,3])\n",
    "b = np.array([4,1])\n",
    "dot_manual = a[0] * b[0] + a[1]*b[1]\n",
    "dot_np = np.dot(a,b)\n",
    "print(dot_manual)\n",
    "print(dot_np)"
   ]
  },
  {
   "cell_type": "code",
   "execution_count": 3,
   "id": "2bb42166-ebe9-4e2d-94cf-7160d791faf8",
   "metadata": {},
   "outputs": [],
   "source": [
    "A = np.array([[1, 2, 3],\n",
    "              [4, 5, 6]])\n",
    "x = np.array([1, 0, -1])\n",
    "\n",
    "result = A @ x"
   ]
  },
  {
   "cell_type": "code",
   "execution_count": 4,
   "id": "982bdd68-1adb-41fe-a9db-1fb683b27ccc",
   "metadata": {},
   "outputs": [
    {
     "data": {
      "text/plain": [
       "array([-2, -2])"
      ]
     },
     "execution_count": 4,
     "metadata": {},
     "output_type": "execute_result"
    }
   ],
   "source": [
    "result"
   ]
  },
  {
   "cell_type": "code",
   "execution_count": 6,
   "id": "a97604d8-ea21-4862-b672-6382f64a00dd",
   "metadata": {},
   "outputs": [
    {
     "name": "stdout",
     "output_type": "stream",
     "text": [
      "True\n"
     ]
    }
   ],
   "source": [
    "Q = np.array([[0, 1],\n",
    "              [1, 0]])\n",
    "QTQ =  Q.T @ Q\n",
    "identity = np.eye(2)\n",
    "\n",
    "\n",
    "print(np.allclose(QTQ, identity))"
   ]
  },
  {
   "cell_type": "code",
   "execution_count": 7,
   "id": "6e9cc249-d8d1-4a8e-9a9d-e886c8f17e53",
   "metadata": {},
   "outputs": [
    {
     "name": "stdout",
     "output_type": "stream",
     "text": [
      "[2. 3.] [[1. 0.]\n",
      " [0. 1.]]\n"
     ]
    }
   ],
   "source": [
    "C = np.array([[2, 0],\n",
    "              [0, 3]])\n",
    "eigvals, eigvecs= np.linalg.eig(C)\n",
    "print(eigvals, eigvecs)"
   ]
  },
  {
   "cell_type": "code",
   "execution_count": 8,
   "id": "13f2600e-13dd-4012-9024-b5fb72c8378d",
   "metadata": {},
   "outputs": [
    {
     "data": {
      "text/plain": [
       "array([[6.23042070e-307, 1.33512376e-306, 1.11261230e-306],\n",
       "       [7.56577399e-307, 9.34600963e-307, 1.05699581e-307]])"
      ]
     },
     "execution_count": 8,
     "metadata": {},
     "output_type": "execute_result"
    }
   ],
   "source": [
    "a = np.empty((2,3))\n",
    "a"
   ]
  },
  {
   "cell_type": "code",
   "execution_count": 9,
   "id": "41ffc5e2-6dbd-4e1b-a84f-be10700ecd03",
   "metadata": {},
   "outputs": [
    {
     "data": {
      "text/plain": [
       "array([[7, 7, 7],\n",
       "       [7, 7, 7]])"
      ]
     },
     "execution_count": 9,
     "metadata": {},
     "output_type": "execute_result"
    }
   ],
   "source": [
    "b = np.full((2,3) , fill_value=7)\n",
    "b"
   ]
  },
  {
   "cell_type": "code",
   "execution_count": 10,
   "id": "7c952ba4-998e-486f-9a9c-d3bec2a1220f",
   "metadata": {},
   "outputs": [
    {
     "data": {
      "text/plain": [
       "array([[0, 1, 2],\n",
       "       [1, 2, 3],\n",
       "       [2, 3, 4]])"
      ]
     },
     "execution_count": 10,
     "metadata": {},
     "output_type": "execute_result"
    }
   ],
   "source": [
    "def pattern(i,j):\n",
    "    return i + j\n",
    "c = np.fromfunction(pattern,(3,3),dtype=int)\n",
    "c"
   ]
  },
  {
   "cell_type": "code",
   "execution_count": 11,
   "id": "4e0ee638-4cbc-4056-b4ce-e814f6d88517",
   "metadata": {},
   "outputs": [],
   "source": [
    "arr = np.arange(12)\n",
    "reshaped = arr.reshape(3, -1)\n"
   ]
  },
  {
   "cell_type": "code",
   "execution_count": 12,
   "id": "ac74776c-9d76-455c-9a4c-1423d04bef36",
   "metadata": {},
   "outputs": [
    {
     "data": {
      "text/plain": [
       "array([[ 0,  1,  2,  3],\n",
       "       [ 4,  5,  6,  7],\n",
       "       [ 8,  9, 10, 11]])"
      ]
     },
     "execution_count": 12,
     "metadata": {},
     "output_type": "execute_result"
    }
   ],
   "source": [
    "reshaped"
   ]
  },
  {
   "cell_type": "code",
   "execution_count": 13,
   "id": "ef97035f-a0f6-4b5b-82c8-4462537e5e09",
   "metadata": {},
   "outputs": [
    {
     "data": {
      "text/plain": [
       "array([[[0.42436838, 0.53509262, 0.89873478, 0.29398233],\n",
       "        [0.51948775, 0.99859903, 0.02761228, 0.47288324],\n",
       "        [0.69261545, 0.65736155, 0.10252602, 0.08446523]],\n",
       "\n",
       "       [[0.76902579, 0.33736239, 0.08065662, 0.11788027],\n",
       "        [0.19782233, 0.46047507, 0.82605176, 0.52605125],\n",
       "        [0.5270695 , 0.4383114 , 0.2438283 , 0.48905143]]])"
      ]
     },
     "execution_count": 13,
     "metadata": {},
     "output_type": "execute_result"
    }
   ],
   "source": [
    "arr = np.random.rand(2,3,4)\n",
    "arr"
   ]
  },
  {
   "cell_type": "code",
   "execution_count": 14,
   "id": "65f85393-97de-4f92-97d5-7f854237cd8d",
   "metadata": {},
   "outputs": [
    {
     "data": {
      "text/plain": [
       "array([0.42436838, 0.53509262, 0.89873478, 0.29398233, 0.51948775,\n",
       "       0.99859903, 0.02761228, 0.47288324, 0.69261545, 0.65736155,\n",
       "       0.10252602, 0.08446523, 0.76902579, 0.33736239, 0.08065662,\n",
       "       0.11788027, 0.19782233, 0.46047507, 0.82605176, 0.52605125,\n",
       "       0.5270695 , 0.4383114 , 0.2438283 , 0.48905143])"
      ]
     },
     "execution_count": 14,
     "metadata": {},
     "output_type": "execute_result"
    }
   ],
   "source": [
    "arr.ravel()"
   ]
  },
  {
   "cell_type": "code",
   "execution_count": 15,
   "id": "4955eda5-3db5-4277-91b4-e24eba03be23",
   "metadata": {},
   "outputs": [],
   "source": [
    "row = np.array([[1, 2, 3]])\n",
    "col = row.T\n"
   ]
  },
  {
   "cell_type": "code",
   "execution_count": 17,
   "id": "f9d05b44-05cd-4cc0-bd16-3e3f24137584",
   "metadata": {},
   "outputs": [
    {
     "data": {
      "text/plain": [
       "array([[1],\n",
       "       [2],\n",
       "       [3]])"
      ]
     },
     "execution_count": 17,
     "metadata": {},
     "output_type": "execute_result"
    }
   ],
   "source": [
    "col"
   ]
  },
  {
   "cell_type": "code",
   "execution_count": 18,
   "id": "5693b0d9-72bb-4da0-a6d4-3f04f4ebd806",
   "metadata": {},
   "outputs": [
    {
     "data": {
      "text/plain": [
       "array([[10],\n",
       "       [20],\n",
       "       [30]])"
      ]
     },
     "execution_count": 18,
     "metadata": {},
     "output_type": "execute_result"
    }
   ],
   "source": [
    "a = np.array([10, 20, 30])\n",
    "a2d = a[:, np.newaxis]\n",
    "a2d"
   ]
  },
  {
   "cell_type": "code",
   "execution_count": 21,
   "id": "e3e79c9a-560e-445b-ac95-8d0d23c18525",
   "metadata": {},
   "outputs": [
    {
     "name": "stdout",
     "output_type": "stream",
     "text": [
      "[[[[0. 0. 0. 0. 0.]]\n",
      "\n",
      "  [[0. 0. 0. 0. 0.]]\n",
      "\n",
      "  [[0. 0. 0. 0. 0.]]]]\n"
     ]
    },
    {
     "data": {
      "text/plain": [
       "array([[0., 0., 0., 0., 0.],\n",
       "       [0., 0., 0., 0., 0.],\n",
       "       [0., 0., 0., 0., 0.]])"
      ]
     },
     "execution_count": 21,
     "metadata": {},
     "output_type": "execute_result"
    }
   ],
   "source": [
    "a = np.zeros((1, 3, 1, 5))\n",
    "print(a)\n",
    "squeezed = np.squeeze(a)\n",
    "squeezed"
   ]
  },
  {
   "cell_type": "code",
   "execution_count": 23,
   "id": "1e1749e7-b6c9-42ae-98d9-abab3e728343",
   "metadata": {},
   "outputs": [
    {
     "data": {
      "text/plain": [
       "array([[[0., 0.],\n",
       "        [0., 0.],\n",
       "        [0., 0.]],\n",
       "\n",
       "       [[0., 0.],\n",
       "        [0., 0.],\n",
       "        [0., 0.]],\n",
       "\n",
       "       [[0., 0.],\n",
       "        [0., 0.],\n",
       "        [0., 0.]],\n",
       "\n",
       "       [[0., 0.],\n",
       "        [0., 0.],\n",
       "        [0., 0.]]])"
      ]
     },
     "execution_count": 23,
     "metadata": {},
     "output_type": "execute_result"
    }
   ],
   "source": [
    "a = np.zeros((2, 3, 4))\n",
    "swapped = np.swapaxes(a, 0, 2)\n",
    "swapped"
   ]
  },
  {
   "cell_type": "code",
   "execution_count": 25,
   "id": "a2a668a9-23ab-4ebf-8178-0568cfb63405",
   "metadata": {},
   "outputs": [
    {
     "data": {
      "text/plain": [
       "array([[2, 5, 7],\n",
       "       [5, 6, 8],\n",
       "       [4, 1, 4],\n",
       "       [9, 6, 6]], dtype=int32)"
      ]
     },
     "execution_count": 25,
     "metadata": {},
     "output_type": "execute_result"
    }
   ],
   "source": [
    "m = np.random.randint(1, 10, size=(3, 4))\n",
    "mt = m.T\n",
    "mt"
   ]
  },
  {
   "cell_type": "code",
   "execution_count": 26,
   "id": "ddb8abf0-e665-4324-9442-1e375df7ce4a",
   "metadata": {},
   "outputs": [],
   "source": [
    "a = np.array([1, 2, 3])\n",
    "b = np.ones((3, 3))\n",
    "res = b * a\n"
   ]
  },
  {
   "cell_type": "code",
   "execution_count": 27,
   "id": "3cda9b99-2b93-4ad5-bbe8-5fda8d731342",
   "metadata": {},
   "outputs": [
    {
     "data": {
      "text/plain": [
       "array([[1., 2., 3.],\n",
       "       [1., 2., 3.],\n",
       "       [1., 2., 3.]])"
      ]
     },
     "execution_count": 27,
     "metadata": {},
     "output_type": "execute_result"
    }
   ],
   "source": [
    "res"
   ]
  },
  {
   "cell_type": "code",
   "execution_count": 29,
   "id": "8d542f8c-6e85-4b50-8ce1-7c7a9618438a",
   "metadata": {},
   "outputs": [
    {
     "data": {
      "text/plain": [
       "array([[1, 1, 2, 2],\n",
       "       [3, 3, 4, 4]])"
      ]
     },
     "execution_count": 29,
     "metadata": {},
     "output_type": "execute_result"
    }
   ],
   "source": [
    "a = np.array([[1, 2], [3, 4]])\n",
    "repeated = np.repeat(a, 2, axis=1)\n",
    "repeated"
   ]
  },
  {
   "cell_type": "code",
   "execution_count": 30,
   "id": "b1035a30-f8e5-4232-98fb-4d71ff6292e0",
   "metadata": {},
   "outputs": [
    {
     "data": {
      "text/plain": [
       "[<matplotlib.lines.Line2D at 0x1e7ff843ed0>]"
      ]
     },
     "execution_count": 30,
     "metadata": {},
     "output_type": "execute_result"
    },
    {
     "data": {
      "image/png": "[encoded data removed]",
      "text/plain": [
       "<Figure size 640x480 with 1 Axes>"
      ]
     },
     "metadata": {},
     "output_type": "display_data"
    }
   ],
   "source": [
    "import numpy as np\n",
    "\n",
    "x = np.linspace(0, 2*np.pi, 100)\n",
    "y = np.sin(x)\n",
    "\n",
    "import matplotlib.pyplot as plt\n",
    "plt.plot(x, y)\n"
   ]
  },
  {
   "cell_type": "code",
   "execution_count": null,
   "id": "a73d12a2-b028-4c66-9c7e-7e6ea79cee8a",
   "metadata": {},
   "outputs": [],
   "source": []
  }
 ],
 "metadata": {
  "kernelspec": {
   "display_name": "Python 3 (ipykernel)",
   "language": "python",
   "name": "python3"
  },
  "language_info": {
   "codemirror_mode": {
    "name": "ipython",
    "version": 3
   },
   "file_extension": ".py",
   "mimetype": "text/x-python",
   "name": "python",
   "nbconvert_exporter": "python",
   "pygments_lexer": "ipython3",
   "version": "3.13.3"
  }
 },
 "nbformat": 4,
 "nbformat_minor": 5
}
